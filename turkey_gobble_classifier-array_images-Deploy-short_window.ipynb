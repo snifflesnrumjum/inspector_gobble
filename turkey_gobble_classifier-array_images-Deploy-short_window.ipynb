{
 "cells": [
  {
   "cell_type": "markdown",
   "metadata": {},
   "source": [
    "### Load the required libraries for everything"
   ]
  },
  {
   "cell_type": "code",
   "execution_count": 1,
   "metadata": {},
   "outputs": [
    {
     "name": "stderr",
     "output_type": "stream",
     "text": [
      "Using TensorFlow backend.\n",
      "C:\\Users\\dhenrichs\\AppData\\Local\\Continuum\\anaconda3\\envs\\deep_learn_gobble\\lib\\site-packages\\tensorflow\\python\\framework\\dtypes.py:516: FutureWarning: Passing (type, 1) or '1type' as a synonym of type is deprecated; in a future version of numpy, it will be understood as (type, (1,)) / '(1,)type'.\n",
      "  _np_qint8 = np.dtype([(\"qint8\", np.int8, 1)])\n",
      "C:\\Users\\dhenrichs\\AppData\\Local\\Continuum\\anaconda3\\envs\\deep_learn_gobble\\lib\\site-packages\\tensorflow\\python\\framework\\dtypes.py:517: FutureWarning: Passing (type, 1) or '1type' as a synonym of type is deprecated; in a future version of numpy, it will be understood as (type, (1,)) / '(1,)type'.\n",
      "  _np_quint8 = np.dtype([(\"quint8\", np.uint8, 1)])\n",
      "C:\\Users\\dhenrichs\\AppData\\Local\\Continuum\\anaconda3\\envs\\deep_learn_gobble\\lib\\site-packages\\tensorflow\\python\\framework\\dtypes.py:518: FutureWarning: Passing (type, 1) or '1type' as a synonym of type is deprecated; in a future version of numpy, it will be understood as (type, (1,)) / '(1,)type'.\n",
      "  _np_qint16 = np.dtype([(\"qint16\", np.int16, 1)])\n",
      "C:\\Users\\dhenrichs\\AppData\\Local\\Continuum\\anaconda3\\envs\\deep_learn_gobble\\lib\\site-packages\\tensorflow\\python\\framework\\dtypes.py:519: FutureWarning: Passing (type, 1) or '1type' as a synonym of type is deprecated; in a future version of numpy, it will be understood as (type, (1,)) / '(1,)type'.\n",
      "  _np_quint16 = np.dtype([(\"quint16\", np.uint16, 1)])\n",
      "C:\\Users\\dhenrichs\\AppData\\Local\\Continuum\\anaconda3\\envs\\deep_learn_gobble\\lib\\site-packages\\tensorflow\\python\\framework\\dtypes.py:520: FutureWarning: Passing (type, 1) or '1type' as a synonym of type is deprecated; in a future version of numpy, it will be understood as (type, (1,)) / '(1,)type'.\n",
      "  _np_qint32 = np.dtype([(\"qint32\", np.int32, 1)])\n",
      "C:\\Users\\dhenrichs\\AppData\\Local\\Continuum\\anaconda3\\envs\\deep_learn_gobble\\lib\\site-packages\\tensorflow\\python\\framework\\dtypes.py:525: FutureWarning: Passing (type, 1) or '1type' as a synonym of type is deprecated; in a future version of numpy, it will be understood as (type, (1,)) / '(1,)type'.\n",
      "  np_resource = np.dtype([(\"resource\", np.ubyte, 1)])\n",
      "C:\\Users\\dhenrichs\\AppData\\Local\\Continuum\\anaconda3\\envs\\deep_learn_gobble\\lib\\site-packages\\tensorboard\\compat\\tensorflow_stub\\dtypes.py:541: FutureWarning: Passing (type, 1) or '1type' as a synonym of type is deprecated; in a future version of numpy, it will be understood as (type, (1,)) / '(1,)type'.\n",
      "  _np_qint8 = np.dtype([(\"qint8\", np.int8, 1)])\n",
      "C:\\Users\\dhenrichs\\AppData\\Local\\Continuum\\anaconda3\\envs\\deep_learn_gobble\\lib\\site-packages\\tensorboard\\compat\\tensorflow_stub\\dtypes.py:542: FutureWarning: Passing (type, 1) or '1type' as a synonym of type is deprecated; in a future version of numpy, it will be understood as (type, (1,)) / '(1,)type'.\n",
      "  _np_quint8 = np.dtype([(\"quint8\", np.uint8, 1)])\n",
      "C:\\Users\\dhenrichs\\AppData\\Local\\Continuum\\anaconda3\\envs\\deep_learn_gobble\\lib\\site-packages\\tensorboard\\compat\\tensorflow_stub\\dtypes.py:543: FutureWarning: Passing (type, 1) or '1type' as a synonym of type is deprecated; in a future version of numpy, it will be understood as (type, (1,)) / '(1,)type'.\n",
      "  _np_qint16 = np.dtype([(\"qint16\", np.int16, 1)])\n",
      "C:\\Users\\dhenrichs\\AppData\\Local\\Continuum\\anaconda3\\envs\\deep_learn_gobble\\lib\\site-packages\\tensorboard\\compat\\tensorflow_stub\\dtypes.py:544: FutureWarning: Passing (type, 1) or '1type' as a synonym of type is deprecated; in a future version of numpy, it will be understood as (type, (1,)) / '(1,)type'.\n",
      "  _np_quint16 = np.dtype([(\"quint16\", np.uint16, 1)])\n",
      "C:\\Users\\dhenrichs\\AppData\\Local\\Continuum\\anaconda3\\envs\\deep_learn_gobble\\lib\\site-packages\\tensorboard\\compat\\tensorflow_stub\\dtypes.py:545: FutureWarning: Passing (type, 1) or '1type' as a synonym of type is deprecated; in a future version of numpy, it will be understood as (type, (1,)) / '(1,)type'.\n",
      "  _np_qint32 = np.dtype([(\"qint32\", np.int32, 1)])\n",
      "C:\\Users\\dhenrichs\\AppData\\Local\\Continuum\\anaconda3\\envs\\deep_learn_gobble\\lib\\site-packages\\tensorboard\\compat\\tensorflow_stub\\dtypes.py:550: FutureWarning: Passing (type, 1) or '1type' as a synonym of type is deprecated; in a future version of numpy, it will be understood as (type, (1,)) / '(1,)type'.\n",
      "  np_resource = np.dtype([(\"resource\", np.ubyte, 1)])\n"
     ]
    }
   ],
   "source": [
    "from keras.models import Model, load_model\n",
    "from keras.layers import Dense, Activation, Conv2D, MaxPooling2D, Flatten, Dropout, BatchNormalization, Input\n",
    "from keras.preprocessing import image as keras_image\n",
    "from keras.optimizers import Adam, RMSprop, SGD\n",
    "from keras.backend import tf as ktf\n",
    "from keras.constraints import maxnorm\n",
    "import keras.backend as K\n",
    "\n",
    "import numpy as np\n",
    "\n",
    "from collections import Counter\n",
    "\n",
    "import os\n",
    "\n",
    "from scipy.io import wavfile\n",
    "from scipy import signal\n",
    "\n",
    "from PIL import Image\n",
    "\n",
    "from sklearn.metrics import classification_report, confusion_matrix\n",
    "\n",
    "import pandas as pd\n",
    "\n",
    "import warnings\n",
    "warnings.filterwarnings('ignore')\n"
   ]
  },
  {
   "cell_type": "markdown",
   "metadata": {},
   "source": [
    "### Define the size of the input images"
   ]
  },
  {
   "cell_type": "code",
   "execution_count": 2,
   "metadata": {},
   "outputs": [],
   "source": [
    "image_size_x = 125\n",
    "image_size_y = 49"
   ]
  },
  {
   "cell_type": "markdown",
   "metadata": {},
   "source": [
    "#### The next four cells all define generators that will auto-feed images to the model for training and testing.\n",
    "You will need to change the path to the folders containing the images.\n",
    "Folder structure should be: <br>\n",
    "> Main_folder: <br>\n",
    "    >> Category_1_folder <br>\n",
    "    >>> images of category 1 <p> \n",
    "\n",
    "   >> Category_2_folder <br>\n",
    "    >>> images of category 2"
   ]
  },
  {
   "cell_type": "code",
   "execution_count": 45,
   "metadata": {},
   "outputs": [
    {
     "name": "stdout",
     "output_type": "stream",
     "text": [
      "Found 495794 images belonging to 2 classes.\n"
     ]
    }
   ],
   "source": [
    "#training data generator\n",
    "\n",
    "folder_of_images = 'E:/CJunk/Turkey_gobble_identification/turkey_classifier_band_pass/temp/'  #images for training\n",
    "\n",
    "#adding some modifications to allow for data augmentation (images are manipulated some to make more instances of training data)\n",
    "input_photos = keras_image.ImageDataGenerator(width_shift_range=5, #randomly shift image this fraction of total width\n",
    "                                        fill_mode='nearest', #how to fill in empty space after shift/rotation\n",
    "                                        rescale = 1/255.) # this will force the integer values in the input to be floats between 0 and 1\n",
    "\n",
    "#start the actual flow of images for training\n",
    "photos = input_photos.flow_from_directory(folder_of_images, \n",
    "                                          color_mode='grayscale', #all ifcb images are grayscale\n",
    "                                          class_mode='binary', #there are 2 classes of images \n",
    "                                          target_size=(image_size_x,image_size_y),  #squish/stretch images to this size\n",
    "                                          batch_size=32,) #how many images per batch\n",
    "                                          "
   ]
  },
  {
   "cell_type": "code",
   "execution_count": 72,
   "metadata": {},
   "outputs": [
    {
     "name": "stdout",
     "output_type": "stream",
     "text": [
      "Found 96907 images belonging to 2 classes.\n"
     ]
    }
   ],
   "source": [
    "#validation data generator\n",
    "\n",
    "folder_of_images = 'E:/CJunk/Turkey_gobble_identification/turkey_classifier_band_pass/test/' \n",
    "#adding some modifications to allow for data augmentation (images are manipulated some to make more instances of training data)\n",
    "input_photos_confusion = keras_image.ImageDataGenerator(rescale = 1/255.)\n",
    "\n",
    "#start the actual flow of images for training\n",
    "photos_confusion = input_photos_confusion.flow_from_directory(folder_of_images, \n",
    "                                          shuffle=False,\n",
    "                                          color_mode='grayscale', #all ifcb images are grayscale\n",
    "                                          class_mode='binary', #there are 2 classes of images \n",
    "                                          target_size=(image_size_x,image_size_y),  #squish/stretch images to this size\n",
    "                                          batch_size=16) #how many images per batch"
   ]
  },
  {
   "cell_type": "code",
   "execution_count": 46,
   "metadata": {},
   "outputs": [
    {
     "name": "stdout",
     "output_type": "stream",
     "text": [
      "Found 495794 images belonging to 2 classes.\n"
     ]
    }
   ],
   "source": [
    "#training data generator\n",
    "\n",
    "folder_of_images = 'E:/CJunk/Turkey_gobble_identification/turkey_classifier_band_pass/temp/'  \n",
    "\n",
    "#adding some modifications to allow for data augmentation (images are manipulated some to make more instances of training data)\n",
    "input_photos_testing = keras_image.ImageDataGenerator(rescale = 1/255.)\n",
    "\n",
    "#start the actual flow of images for training\n",
    "photos_testing = input_photos.flow_from_directory(folder_of_images, \n",
    "                                          shuffle=False,\n",
    "                                          color_mode='grayscale', #all ifcb images are grayscale\n",
    "                                          class_mode='binary', #there are 2 classes of images\n",
    "                                          target_size=(image_size_x,image_size_y),  #squish/stretch images to this size\n",
    "                                          batch_size=16,) #how many images per batch\n",
    "                                          "
   ]
  },
  {
   "cell_type": "code",
   "execution_count": 73,
   "metadata": {},
   "outputs": [
    {
     "name": "stdout",
     "output_type": "stream",
     "text": [
      "Found 96907 images belonging to 2 classes.\n"
     ]
    }
   ],
   "source": [
    "#validation data generator\n",
    "\n",
    "folder_of_images = 'E:/CJunk/Turkey_gobble_identification/turkey_classifier_band_pass/test/'  #images for training\n",
    "#adding some modifications to allow for data augmentation (images are manipulated some to make more instances of training data)\n",
    "input_photos_validation = keras_image.ImageDataGenerator(rescale = 1/255.)\n",
    "\n",
    "#start the actual flow of images for training\n",
    "photos_validation = input_photos_validation.flow_from_directory(folder_of_images, \n",
    "                                          #shuffle=False,\n",
    "                                          color_mode='grayscale', #all ifcb images are grayscale\n",
    "                                          class_mode='binary', #there are 2 classes of images\n",
    "                                          target_size=(image_size_x,image_size_y),  #squish/stretch images to this size\n",
    "                                          batch_size=16) #how many images per batch"
   ]
  },
  {
   "cell_type": "markdown",
   "metadata": {},
   "source": [
    "### Here is where the structure of the CNN model is defined"
   ]
  },
  {
   "cell_type": "code",
   "execution_count": 9,
   "metadata": {
    "scrolled": true
   },
   "outputs": [
    {
     "name": "stdout",
     "output_type": "stream",
     "text": [
      "WARNING:tensorflow:From C:\\Users\\dhenrichs\\AppData\\Local\\Continuum\\anaconda3\\envs\\deep_learn2\\lib\\site-packages\\keras\\backend\\tensorflow_backend.py:74: The name tf.get_default_graph is deprecated. Please use tf.compat.v1.get_default_graph instead.\n",
      "\n",
      "WARNING:tensorflow:From C:\\Users\\dhenrichs\\AppData\\Local\\Continuum\\anaconda3\\envs\\deep_learn2\\lib\\site-packages\\keras\\backend\\tensorflow_backend.py:517: The name tf.placeholder is deprecated. Please use tf.compat.v1.placeholder instead.\n",
      "\n",
      "WARNING:tensorflow:From C:\\Users\\dhenrichs\\AppData\\Local\\Continuum\\anaconda3\\envs\\deep_learn2\\lib\\site-packages\\keras\\backend\\tensorflow_backend.py:4138: The name tf.random_uniform is deprecated. Please use tf.random.uniform instead.\n",
      "\n",
      "WARNING:tensorflow:From C:\\Users\\dhenrichs\\AppData\\Local\\Continuum\\anaconda3\\envs\\deep_learn2\\lib\\site-packages\\keras\\backend\\tensorflow_backend.py:174: The name tf.get_default_session is deprecated. Please use tf.compat.v1.get_default_session instead.\n",
      "\n",
      "WARNING:tensorflow:From C:\\Users\\dhenrichs\\AppData\\Local\\Continuum\\anaconda3\\envs\\deep_learn2\\lib\\site-packages\\keras\\backend\\tensorflow_backend.py:181: The name tf.ConfigProto is deprecated. Please use tf.compat.v1.ConfigProto instead.\n",
      "\n",
      "WARNING:tensorflow:From C:\\Users\\dhenrichs\\AppData\\Local\\Continuum\\anaconda3\\envs\\deep_learn2\\lib\\site-packages\\keras\\backend\\tensorflow_backend.py:1834: The name tf.nn.fused_batch_norm is deprecated. Please use tf.compat.v1.nn.fused_batch_norm instead.\n",
      "\n",
      "WARNING:tensorflow:From C:\\Users\\dhenrichs\\AppData\\Local\\Continuum\\anaconda3\\envs\\deep_learn2\\lib\\site-packages\\keras\\backend\\tensorflow_backend.py:3976: The name tf.nn.max_pool is deprecated. Please use tf.nn.max_pool2d instead.\n",
      "\n",
      "WARNING:tensorflow:From C:\\Users\\dhenrichs\\AppData\\Local\\Continuum\\anaconda3\\envs\\deep_learn2\\lib\\site-packages\\keras\\backend\\tensorflow_backend.py:3445: calling dropout (from tensorflow.python.ops.nn_ops) with keep_prob is deprecated and will be removed in a future version.\n",
      "Instructions for updating:\n",
      "Please use `rate` instead of `keep_prob`. Rate should be set to `rate = 1 - keep_prob`.\n"
     ]
    }
   ],
   "source": [
    "#Functional API version of the model\n",
    "\n",
    "inputs = Input((image_size_x,image_size_y, 1))\n",
    "\n",
    "conv1 = Conv2D(16, (5,5), padding='same', strides=1)(inputs)\n",
    "conv1 = BatchNormalization()(conv1)\n",
    "conv1 = Activation('relu')(conv1)\n",
    "conv1 = MaxPooling2D(pool_size=(2,2))(conv1)\n",
    "\n",
    "conv3 = Conv2D(64, (3,3), padding='same', strides=1)(conv1)\n",
    "conv3 = BatchNormalization()(conv3)\n",
    "conv3 = Activation('relu')(conv3)\n",
    "conv3 = MaxPooling2D(pool_size=(2,2))(conv3)\n",
    "\n",
    "conv7 = Conv2D(128, (3,3), padding='same')(conv3)\n",
    "conv7 = BatchNormalization()(conv7)\n",
    "conv7 = Activation('relu')(conv7)\n",
    "conv7 = MaxPooling2D(pool_size=(2,2))(conv7)\n",
    "\n",
    "conv8 = Conv2D(256, (3,3), padding='same')(conv7)\n",
    "conv8 = BatchNormalization()(conv8)\n",
    "conv8 = Activation('relu')(conv8)\n",
    "conv8 = MaxPooling2D(pool_size=(2,2))(conv8)\n",
    "conv8 = MaxPooling2D(pool_size=(2,2))(conv8)\n",
    "\n",
    "flat = Flatten()(conv8)\n",
    "flat = Dense(1024, kernel_constraint=maxnorm(3))(flat)\n",
    "flat = Activation('relu')(flat)\n",
    "flat = Dropout(0.35)(flat)\n",
    "flat = Dense(512, kernel_constraint=maxnorm(3))(flat)\n",
    "flat = Activation('relu')(flat)\n",
    "\n",
    "finish = Dropout(0.35)(flat)\n",
    "finish = Dense(1)(finish)\n",
    "finish = Activation('sigmoid')(finish)\n",
    "\n",
    "model = Model(inputs=[inputs], outputs=[finish])"
   ]
  },
  {
   "cell_type": "markdown",
   "metadata": {},
   "source": [
    "### Here we decide what optimizer to use and what learning rate, etc. to use. <br> \n",
    "Adam is one of the more commonly used optimizer suitable for a wide range of situations. "
   ]
  },
  {
   "cell_type": "code",
   "execution_count": 104,
   "metadata": {},
   "outputs": [],
   "source": [
    "adam = Adam(lr=0.0000001, decay=.00000025)\n",
    "#sgd = SGD()\n",
    "#rms = RMSprop()"
   ]
  },
  {
   "cell_type": "markdown",
   "metadata": {},
   "source": [
    "### Model needs to be compiled before training <br>\n",
    "Warnings may pop up here but for now, they're okay to ignore. They're letting us know that certain functions are going to be removed in future releases. Since these functions reside in Keras, the Keras group should take care of changing out the functions/names in a future release. "
   ]
  },
  {
   "cell_type": "code",
   "execution_count": 105,
   "metadata": {},
   "outputs": [],
   "source": [
    "model.compile(loss='binary_crossentropy',\n",
    "              optimizer=adam,\n",
    "              metrics=['accuracy', 'mse'],\n",
    "             )"
   ]
  },
  {
   "cell_type": "markdown",
   "metadata": {},
   "source": [
    "### Let's take a look at the model structure and see how many parameters it has for training. "
   ]
  },
  {
   "cell_type": "code",
   "execution_count": 12,
   "metadata": {
    "scrolled": true
   },
   "outputs": [
    {
     "name": "stdout",
     "output_type": "stream",
     "text": [
      "1693345\n",
      "_________________________________________________________________\n",
      "Layer (type)                 Output Shape              Param #   \n",
      "=================================================================\n",
      "input_1 (InputLayer)         (None, 125, 49, 1)        0         \n",
      "_________________________________________________________________\n",
      "conv2d_1 (Conv2D)            (None, 125, 49, 16)       416       \n",
      "_________________________________________________________________\n",
      "batch_normalization_1 (Batch (None, 125, 49, 16)       64        \n",
      "_________________________________________________________________\n",
      "activation_1 (Activation)    (None, 125, 49, 16)       0         \n",
      "_________________________________________________________________\n",
      "max_pooling2d_1 (MaxPooling2 (None, 62, 24, 16)        0         \n",
      "_________________________________________________________________\n",
      "conv2d_2 (Conv2D)            (None, 62, 24, 64)        9280      \n",
      "_________________________________________________________________\n",
      "batch_normalization_2 (Batch (None, 62, 24, 64)        256       \n",
      "_________________________________________________________________\n",
      "activation_2 (Activation)    (None, 62, 24, 64)        0         \n",
      "_________________________________________________________________\n",
      "max_pooling2d_2 (MaxPooling2 (None, 31, 12, 64)        0         \n",
      "_________________________________________________________________\n",
      "conv2d_3 (Conv2D)            (None, 31, 12, 128)       73856     \n",
      "_________________________________________________________________\n",
      "batch_normalization_3 (Batch (None, 31, 12, 128)       512       \n",
      "_________________________________________________________________\n",
      "activation_3 (Activation)    (None, 31, 12, 128)       0         \n",
      "_________________________________________________________________\n",
      "max_pooling2d_3 (MaxPooling2 (None, 15, 6, 128)        0         \n",
      "_________________________________________________________________\n",
      "conv2d_4 (Conv2D)            (None, 15, 6, 256)        295168    \n",
      "_________________________________________________________________\n",
      "batch_normalization_4 (Batch (None, 15, 6, 256)        1024      \n",
      "_________________________________________________________________\n",
      "activation_4 (Activation)    (None, 15, 6, 256)        0         \n",
      "_________________________________________________________________\n",
      "max_pooling2d_4 (MaxPooling2 (None, 7, 3, 256)         0         \n",
      "_________________________________________________________________\n",
      "max_pooling2d_5 (MaxPooling2 (None, 3, 1, 256)         0         \n",
      "_________________________________________________________________\n",
      "flatten_1 (Flatten)          (None, 768)               0         \n",
      "_________________________________________________________________\n",
      "dense_1 (Dense)              (None, 1024)              787456    \n",
      "_________________________________________________________________\n",
      "activation_5 (Activation)    (None, 1024)              0         \n",
      "_________________________________________________________________\n",
      "dropout_1 (Dropout)          (None, 1024)              0         \n",
      "_________________________________________________________________\n",
      "dense_2 (Dense)              (None, 512)               524800    \n",
      "_________________________________________________________________\n",
      "activation_6 (Activation)    (None, 512)               0         \n",
      "_________________________________________________________________\n",
      "dropout_2 (Dropout)          (None, 512)               0         \n",
      "_________________________________________________________________\n",
      "dense_3 (Dense)              (None, 1)                 513       \n",
      "_________________________________________________________________\n",
      "activation_7 (Activation)    (None, 1)                 0         \n",
      "=================================================================\n",
      "Total params: 1,693,345\n",
      "Trainable params: 1,692,417\n",
      "Non-trainable params: 928\n",
      "_________________________________________________________________\n",
      "None\n"
     ]
    }
   ],
   "source": [
    "print(model.count_params())\n",
    "print(model.summary())"
   ]
  },
  {
   "cell_type": "markdown",
   "metadata": {},
   "source": [
    "### The categories of images are often imbalanced (not equal numbers of training images in each category). <br>\n",
    "To correct for this, we alter the weight (impact on training) of the categories to help categories with low numbers of images. "
   ]
  },
  {
   "cell_type": "code",
   "execution_count": 13,
   "metadata": {},
   "outputs": [],
   "source": [
    "#try this function to correct for imbalanced classes\n",
    "#the code for this function was copied from here:\n",
    "# https://gist.github.com/cbaziotis/f8ffa9922081493418287ee14830e6e9\n",
    "\n",
    "def get_class_weights(y, smooth_factor=0):\n",
    "    \"\"\"\n",
    "    Returns the weights for each class based on the frequencies of the samples\n",
    "    :param smooth_factor: factor that smooths extremely uneven weights\n",
    "    :param y: list of true labels (the labels must be hashable)\n",
    "    :return: dictionary with the weight for each class\n",
    "    \"\"\"\n",
    "    counter = Counter(y)\n",
    "\n",
    "    if smooth_factor > 0:\n",
    "        p = max(counter.values()) * smooth_factor\n",
    "        for k in counter.keys():\n",
    "            counter[k] += p\n",
    "\n",
    "    majority = max(counter.values())\n",
    "\n",
    "    return {cls: float(majority) / count for cls, count in counter.items()}\n",
    "\n"
   ]
  },
  {
   "cell_type": "code",
   "execution_count": 87,
   "metadata": {},
   "outputs": [
    {
     "data": {
      "text/plain": [
       "{0: 5.45276226753453, 1: 1.0}"
      ]
     },
     "execution_count": 87,
     "metadata": {},
     "output_type": "execute_result"
    }
   ],
   "source": [
    "temp_class_weights = get_class_weights(photos.classes, 0.1)\n",
    "temp_class_weights"
   ]
  },
  {
   "cell_type": "markdown",
   "metadata": {},
   "source": [
    "### The model is starting to be trained now. <br>\n",
    "Output for the training is stored in the `hist` variable but the `model` itself is what's being trained. The `hist` variable will store the loss values, the accuracy values, etc. for later plotting. "
   ]
  },
  {
   "cell_type": "code",
   "execution_count": 133,
   "metadata": {
    "scrolled": true
   },
   "outputs": [
    {
     "name": "stdout",
     "output_type": "stream",
     "text": [
      "Epoch 46/50\n",
      "15493/15493 [==============================] - 283s 18ms/step - loss: 0.0120 - acc: 0.9975 - mean_squared_error: 0.0019 - val_loss: 0.3135 - val_acc: 0.9637 - val_mean_squared_error: 0.0328\n",
      "Epoch 47/50\n",
      "15493/15493 [==============================] - 284s 18ms/step - loss: 0.0120 - acc: 0.9975 - mean_squared_error: 0.0019 - val_loss: 0.3055 - val_acc: 0.9637 - val_mean_squared_error: 0.0327\n",
      "Epoch 48/50\n",
      "15493/15493 [==============================] - 283s 18ms/step - loss: 0.0119 - acc: 0.9974 - mean_squared_error: 0.0019 - val_loss: 0.3172 - val_acc: 0.9618 - val_mean_squared_error: 0.0338\n",
      "Epoch 49/50\n",
      "15493/15493 [==============================] - 284s 18ms/step - loss: 0.0127 - acc: 0.9974 - mean_squared_error: 0.0019 - val_loss: 0.3047 - val_acc: 0.9646 - val_mean_squared_error: 0.0321\n",
      "Epoch 50/50\n",
      "15493/15493 [==============================] - 283s 18ms/step - loss: 0.0114 - acc: 0.9975 - mean_squared_error: 0.0019 - val_loss: 0.3028 - val_acc: 0.9647 - val_mean_squared_error: 0.0318\n"
     ]
    }
   ],
   "source": [
    "num_images = len(photos.classes)\n",
    "batch_size=32\n",
    "hist = model.fit_generator(photos, #the generator defined above for training\n",
    "            steps_per_epoch=int(num_images/batch_size), #how many sets of images (of size = batch_size) will be looked at each epoch\n",
    "            epochs=50, #how many epochs to run\n",
    "            initial_epoch=45, #which epoch do you want to start from? useful when continuing training\n",
    "            validation_data = photos_validation, #generator for validation images; should be different than the training images\n",
    "            validation_steps = 2000, #how many batches of images to run through for validation calculation\n",
    "            class_weight=temp_class_weights,  #this is to help with the unbalanced class issue\n",
    "            )"
   ]
  },
  {
   "cell_type": "markdown",
   "metadata": {},
   "source": [
    "### Run the cell below to save the model to a path/filename that you define. <br>\n",
    "#### Caution: it WILL overwrite a file without asking"
   ]
  },
  {
   "cell_type": "code",
   "execution_count": 134,
   "metadata": {},
   "outputs": [],
   "source": [
    "model.save('E:/CJunk/Turkey_gobble_identification/turkey_classifier/model_18Dec2019_bandpass_50_epochs.mdl')\n"
   ]
  },
  {
   "cell_type": "markdown",
   "metadata": {},
   "source": [
    "### Run the cell below to load a model from a saved file."
   ]
  },
  {
   "cell_type": "code",
   "execution_count": 52,
   "metadata": {
    "scrolled": true
   },
   "outputs": [],
   "source": [
    "model = load_model('E:/CJunk/Turkey_gobble_identification/turkey_classifier/model_26Nov2019_small_50_epochs.mdl')\n",
    "#the model== model_26Nov2019_small_50_epochs.mdl does very well"
   ]
  },
  {
   "cell_type": "code",
   "execution_count": 7,
   "metadata": {
    "scrolled": true
   },
   "outputs": [
    {
     "name": "stdout",
     "output_type": "stream",
     "text": [
      "WARNING:tensorflow:From C:\\Users\\dhenrichs\\AppData\\Local\\Continuum\\anaconda3\\envs\\deep_learn2\\lib\\site-packages\\keras\\backend\\tensorflow_backend.py:517: The name tf.placeholder is deprecated. Please use tf.compat.v1.placeholder instead.\n",
      "\n",
      "WARNING:tensorflow:From C:\\Users\\dhenrichs\\AppData\\Local\\Continuum\\anaconda3\\envs\\deep_learn2\\lib\\site-packages\\keras\\backend\\tensorflow_backend.py:4138: The name tf.random_uniform is deprecated. Please use tf.random.uniform instead.\n",
      "\n",
      "WARNING:tensorflow:From C:\\Users\\dhenrichs\\AppData\\Local\\Continuum\\anaconda3\\envs\\deep_learn2\\lib\\site-packages\\keras\\backend\\tensorflow_backend.py:245: The name tf.get_default_graph is deprecated. Please use tf.compat.v1.get_default_graph instead.\n",
      "\n",
      "WARNING:tensorflow:From C:\\Users\\dhenrichs\\AppData\\Local\\Continuum\\anaconda3\\envs\\deep_learn2\\lib\\site-packages\\keras\\backend\\tensorflow_backend.py:174: The name tf.get_default_session is deprecated. Please use tf.compat.v1.get_default_session instead.\n",
      "\n",
      "WARNING:tensorflow:From C:\\Users\\dhenrichs\\AppData\\Local\\Continuum\\anaconda3\\envs\\deep_learn2\\lib\\site-packages\\keras\\backend\\tensorflow_backend.py:181: The name tf.ConfigProto is deprecated. Please use tf.compat.v1.ConfigProto instead.\n",
      "\n",
      "WARNING:tensorflow:From C:\\Users\\dhenrichs\\AppData\\Local\\Continuum\\anaconda3\\envs\\deep_learn2\\lib\\site-packages\\keras\\backend\\tensorflow_backend.py:1834: The name tf.nn.fused_batch_norm is deprecated. Please use tf.compat.v1.nn.fused_batch_norm instead.\n",
      "\n",
      "WARNING:tensorflow:From C:\\Users\\dhenrichs\\AppData\\Local\\Continuum\\anaconda3\\envs\\deep_learn2\\lib\\site-packages\\keras\\backend\\tensorflow_backend.py:3976: The name tf.nn.max_pool is deprecated. Please use tf.nn.max_pool2d instead.\n",
      "\n",
      "WARNING:tensorflow:From C:\\Users\\dhenrichs\\AppData\\Local\\Continuum\\anaconda3\\envs\\deep_learn2\\lib\\site-packages\\keras\\backend\\tensorflow_backend.py:3445: calling dropout (from tensorflow.python.ops.nn_ops) with keep_prob is deprecated and will be removed in a future version.\n",
      "Instructions for updating:\n",
      "Please use `rate` instead of `keep_prob`. Rate should be set to `rate = 1 - keep_prob`.\n",
      "WARNING:tensorflow:From C:\\Users\\dhenrichs\\AppData\\Local\\Continuum\\anaconda3\\envs\\deep_learn2\\lib\\site-packages\\keras\\optimizers.py:790: The name tf.train.Optimizer is deprecated. Please use tf.compat.v1.train.Optimizer instead.\n",
      "\n",
      "WARNING:tensorflow:From C:\\Users\\dhenrichs\\AppData\\Local\\Continuum\\anaconda3\\envs\\deep_learn2\\lib\\site-packages\\tensorflow\\python\\ops\\nn_impl.py:180: add_dispatch_support.<locals>.wrapper (from tensorflow.python.ops.array_ops) is deprecated and will be removed in a future version.\n",
      "Instructions for updating:\n",
      "Use tf.where in 2.0, which has the same broadcast rule as np.where\n"
     ]
    }
   ],
   "source": [
    "model = load_model('E:/CJunk/Turkey_gobble_identification/turkey_classifier/model_16Dec2019_35_epochs.mdl')"
   ]
  },
  {
   "cell_type": "markdown",
   "metadata": {},
   "source": [
    "### Now to check how well the model is doing based on the testing set. <br>\n",
    "These cells will run all of the images in the photos_confusion generator through the CNN and compare the output with the true value."
   ]
  },
  {
   "cell_type": "code",
   "execution_count": 135,
   "metadata": {},
   "outputs": [],
   "source": [
    "num_images = len(photos_confusion.classes)\n",
    "photos_confusion.reset()\n",
    "Y_pred = model.predict_generator(photos_confusion, num_images/16 + 1)\n",
    "y_pred = np.round(Y_pred)"
   ]
  },
  {
   "cell_type": "code",
   "execution_count": 136,
   "metadata": {},
   "outputs": [
    {
     "name": "stdout",
     "output_type": "stream",
     "text": [
      "Confusion Matrix\n",
      "[[10166  2345]\n",
      " [ 1171 83225]]\n",
      "Classification Report\n",
      "              precision    recall  f1-score   support\n",
      "\n",
      "      gobble       0.90      0.81      0.85     12511\n",
      "       other       0.97      0.99      0.98     84396\n",
      "\n",
      "    accuracy                           0.96     96907\n",
      "   macro avg       0.93      0.90      0.92     96907\n",
      "weighted avg       0.96      0.96      0.96     96907\n",
      "\n"
     ]
    }
   ],
   "source": [
    "print('Confusion Matrix')\n",
    "print(confusion_matrix(photos_confusion.classes, y_pred[:num_images]))\n",
    "check_answer = np.sort(list(photos_confusion.class_indices))\n",
    "print('Classification Report')\n",
    "target_names = check_answer\n",
    "print(classification_report(photos_confusion.classes, y_pred[:num_images], target_names=target_names))"
   ]
  },
  {
   "cell_type": "code",
   "execution_count": 91,
   "metadata": {},
   "outputs": [
    {
     "data": {
      "text/html": [
       "<div>\n",
       "<style scoped>\n",
       "    .dataframe tbody tr th:only-of-type {\n",
       "        vertical-align: middle;\n",
       "    }\n",
       "\n",
       "    .dataframe tbody tr th {\n",
       "        vertical-align: top;\n",
       "    }\n",
       "\n",
       "    .dataframe thead th {\n",
       "        text-align: right;\n",
       "    }\n",
       "</style>\n",
       "<table border=\"1\" class=\"dataframe\">\n",
       "  <thead>\n",
       "    <tr style=\"text-align: right;\">\n",
       "      <th></th>\n",
       "      <th>gobble</th>\n",
       "      <th>other</th>\n",
       "    </tr>\n",
       "  </thead>\n",
       "  <tbody>\n",
       "    <tr>\n",
       "      <th>gobble</th>\n",
       "      <td>10121</td>\n",
       "      <td>2390</td>\n",
       "    </tr>\n",
       "    <tr>\n",
       "      <th>other</th>\n",
       "      <td>1121</td>\n",
       "      <td>83275</td>\n",
       "    </tr>\n",
       "  </tbody>\n",
       "</table>\n",
       "</div>"
      ],
      "text/plain": [
       "        gobble  other\n",
       "gobble   10121   2390\n",
       "other     1121  83275"
      ]
     },
     "execution_count": 91,
     "metadata": {},
     "output_type": "execute_result"
    }
   ],
   "source": [
    "conf_mat = pd.DataFrame(confusion_matrix(photos_confusion.classes, y_pred[:num_images]), columns=target_names, index=target_names)\n",
    "conf_mat"
   ]
  },
  {
   "cell_type": "code",
   "execution_count": 423,
   "metadata": {},
   "outputs": [
    {
     "data": {
      "text/html": [
       "<div>\n",
       "<style scoped>\n",
       "    .dataframe tbody tr th:only-of-type {\n",
       "        vertical-align: middle;\n",
       "    }\n",
       "\n",
       "    .dataframe tbody tr th {\n",
       "        vertical-align: top;\n",
       "    }\n",
       "\n",
       "    .dataframe thead th {\n",
       "        text-align: right;\n",
       "    }\n",
       "</style>\n",
       "<table border=\"1\" class=\"dataframe\">\n",
       "  <thead>\n",
       "    <tr style=\"text-align: right;\">\n",
       "      <th></th>\n",
       "      <th>gobble</th>\n",
       "      <th>other</th>\n",
       "    </tr>\n",
       "  </thead>\n",
       "  <tbody>\n",
       "    <tr>\n",
       "      <th>gobble</th>\n",
       "      <td>10477</td>\n",
       "      <td>1756</td>\n",
       "    </tr>\n",
       "    <tr>\n",
       "      <th>other</th>\n",
       "      <td>1599</td>\n",
       "      <td>82690</td>\n",
       "    </tr>\n",
       "  </tbody>\n",
       "</table>\n",
       "</div>"
      ],
      "text/plain": [
       "        gobble  other\n",
       "gobble   10477   1756\n",
       "other     1599  82690"
      ]
     },
     "execution_count": 423,
     "metadata": {},
     "output_type": "execute_result"
    }
   ],
   "source": [
    "conf_mat = pd.DataFrame(confusion_matrix(photos_confusion.classes, y_pred[:num_images]), columns=target_names, index=target_names)\n",
    "conf_mat"
   ]
  },
  {
   "cell_type": "markdown",
   "metadata": {},
   "source": [
    "### Now to run the training set through the CNN to see how well the model fits/overfits"
   ]
  },
  {
   "cell_type": "code",
   "execution_count": 255,
   "metadata": {
    "scrolled": true
   },
   "outputs": [],
   "source": [
    "num_images = len(photos_testing.classes)\n",
    "photos_testing.reset()\n",
    "Y_pred = model.predict_generator(photos_testing, num_images/16 + 1)\n",
    "y_pred = np.round(Y_pred)"
   ]
  },
  {
   "cell_type": "code",
   "execution_count": 256,
   "metadata": {},
   "outputs": [
    {
     "name": "stdout",
     "output_type": "stream",
     "text": [
      "Confusion Matrix\n",
      "[[ 41303    350]\n",
      " [   574 308096]]\n",
      "Classification Report\n",
      "              precision    recall  f1-score   support\n",
      "\n",
      "      gobble       0.99      0.99      0.99     41653\n",
      "       other       1.00      1.00      1.00    308670\n",
      "\n",
      "    accuracy                           1.00    350323\n",
      "   macro avg       0.99      0.99      0.99    350323\n",
      "weighted avg       1.00      1.00      1.00    350323\n",
      "\n"
     ]
    }
   ],
   "source": [
    "print('Confusion Matrix')\n",
    "print(confusion_matrix(photos_testing.classes, y_pred[:num_images]))\n",
    "check_answer = np.sort(list(photos_testing.class_indices))\n",
    "print('Classification Report')\n",
    "target_names = check_answer\n",
    "print(classification_report(photos_testing.classes, y_pred[:num_images], target_names=target_names))"
   ]
  },
  {
   "cell_type": "code",
   "execution_count": 257,
   "metadata": {},
   "outputs": [
    {
     "data": {
      "text/html": [
       "<div>\n",
       "<style scoped>\n",
       "    .dataframe tbody tr th:only-of-type {\n",
       "        vertical-align: middle;\n",
       "    }\n",
       "\n",
       "    .dataframe tbody tr th {\n",
       "        vertical-align: top;\n",
       "    }\n",
       "\n",
       "    .dataframe thead th {\n",
       "        text-align: right;\n",
       "    }\n",
       "</style>\n",
       "<table border=\"1\" class=\"dataframe\">\n",
       "  <thead>\n",
       "    <tr style=\"text-align: right;\">\n",
       "      <th></th>\n",
       "      <th>gobble</th>\n",
       "      <th>other</th>\n",
       "    </tr>\n",
       "  </thead>\n",
       "  <tbody>\n",
       "    <tr>\n",
       "      <th>gobble</th>\n",
       "      <td>41303</td>\n",
       "      <td>350</td>\n",
       "    </tr>\n",
       "    <tr>\n",
       "      <th>other</th>\n",
       "      <td>574</td>\n",
       "      <td>308096</td>\n",
       "    </tr>\n",
       "  </tbody>\n",
       "</table>\n",
       "</div>"
      ],
      "text/plain": [
       "        gobble   other\n",
       "gobble   41303     350\n",
       "other      574  308096"
      ]
     },
     "execution_count": 257,
     "metadata": {},
     "output_type": "execute_result"
    }
   ],
   "source": [
    "conf_mat = pd.DataFrame(confusion_matrix(photos_testing.classes, y_pred[:num_images]), columns=target_names, index=target_names)\n",
    "conf_mat"
   ]
  },
  {
   "cell_type": "markdown",
   "metadata": {},
   "source": [
    "### The cell below contains the main code to load a WAV file and run it through the CNN. <br>\n",
    "I've added a variable `temp_audio_out` where the audio snippets will be placed. You can obviously put this wherever you want. "
   ]
  },
  {
   "cell_type": "code",
   "execution_count": 4,
   "metadata": {},
   "outputs": [],
   "source": [
    "#batch version of this function\n",
    "temp_audio_out = 'E:/CJunk/Turkey_gobble_identification/Darren_Data/audio_out/'\n",
    "def load_classify_images(infile):\n",
    "    image_size_x = 125\n",
    "    image_size_y = 49\n",
    "    stft_params = {'nperseg':1000, 'noverlap':500}\n",
    "    stft_conversion = stft_params['nperseg'] - stft_params['noverlap']\n",
    "    window_shift_size = 500 #6000 equal 0.25seconds\n",
    "    window_shift_size = int(window_shift_size / stft_conversion) #convert the window shift into stft units\n",
    "    inwav = wavfile.read(infile) #load the raw WAV file\n",
    "    outdata = pd.DataFrame(columns=['Event', 'Start_time', 'End_time', 'Gobble', 'Model_output', 'Min:Sec', 'Start_index', 'End_index', 'Num_windows', 'Begin File'])\n",
    "    infilename = infile.split('/')[-1]\n",
    "    gobble_count = 1\n",
    "    results = []\n",
    "    track_gobble = False\n",
    "    gobble_start = 0\n",
    "    gobble_end = 24000\n",
    "    batch_results = {'start':[], 'end':[], 'result':[]}\n",
    "    img_batch = []\n",
    "    f, t, Zxx = signal.stft(inwav[1], 24000, nperseg=stft_params['nperseg'], noverlap=stft_params['noverlap']) #calculate the short time Fourier transform\n",
    "    Zxx = np.abs(Zxx)[25:150, :]     \n",
    "    \n",
    "    #generate the window slices and run them through the CNN\n",
    "    for image in range(0, int(Zxx.shape[1]), window_shift_size): #go through the WAV file in 1/12th second intervals (2000)\n",
    "#         if image % 10000 == 0:\n",
    "#             print(image)\n",
    "        start_ind = image\n",
    "        end_ind = image + 48\n",
    "        \n",
    "        if end_ind + 48 >= int(Zxx.shape[1]): #reached the end of the WAV file; no more 2s windows available\n",
    "            continue\n",
    "        else:\n",
    "            batch_results['start'].append(start_ind)\n",
    "            batch_results['end'].append(end_ind)\n",
    "            img = Zxx[:, start_ind:start_ind+image_size_y].astype('int16') #slice the resulting array down to the proper size for input into the CNN\n",
    "            img = img.reshape(image_size_x,image_size_y,1) \n",
    "            img = img/255.\n",
    "            img_batch.append(img)\n",
    "            if len(img_batch) == 16:\n",
    "                out = model.predict(np.array(img_batch)) #run the images through the CNN\n",
    "                for indiv_result in out:\n",
    "                    batch_results['result'].append(indiv_result)\n",
    "                img_batch = []\n",
    "    \n",
    "    if len(img_batch) > 0: #pickup the last few windows in case it doesn't end on a clean multiple of 16\n",
    "        out = model.predict(np.array(img_batch)) #run the images through the CNN\n",
    "        for indiv_result in out:\n",
    "            batch_results['result'].append(indiv_result)\n",
    "        img_batch = []\n",
    "        \n",
    "    #aggregate the results of the CNN    \n",
    "    for result in range(len(batch_results['start'])):\n",
    "        start_ind = batch_results['start'][result] * stft_conversion #convert back to WAV files units\n",
    "        end_ind = batch_results['end'][result] * stft_conversion #convert back to WAV files units\n",
    "        out = batch_results['result'][result][0]\n",
    "        #if round(out) == 0 and not track_gobble: #CNN said it's a gobble; start tracking the length of the gobble window\n",
    "        if out < 0.4 and not track_gobble: #CNN said it's a gobble; start tracking the length of the gobble window\n",
    "            track_gobble = True\n",
    "            gobble_start = start_ind\n",
    "            gobble_end = start_ind + 24000\n",
    "            gobble_predict_value = out\n",
    "            num_gobble_windows = 1\n",
    "        #elif round(out) == 0: #CNN said this window is still part of the previous gobble\n",
    "        elif out < 0.5 and track_gobble: #CNN said this window is still part of the previous gobble\n",
    "            #if start_ind > gobble_end:\n",
    "            gobble_end += int(window_shift_size * stft_conversion) #extend the window size of the gobble\n",
    "            gobble_predict_value += out\n",
    "            num_gobble_windows += 1\n",
    "        elif track_gobble == True: #CNN said the current window is no longer a gobble; complete the logging for this gobble\n",
    "            track_gobble = False\n",
    "            if num_gobble_windows > 16 and gobble_predict_value/num_gobble_windows < 0.5: #gobble window must be more than 2 windows AND the average value coming from the CNN less than 0.10\n",
    "                gob_st = (gobble_start/24000) / 60.\n",
    "                min_sec = '{0}:{1:02}'.format(int(gob_st), round(((gob_st) - int(gob_st))*60))\n",
    "                outdata.loc[gobble_count] = [gobble_count, round(gobble_start/24000,2), round(gobble_end/24000,2), 1,\n",
    "                                             round(gobble_predict_value/num_gobble_windows,4), min_sec, gobble_start, gobble_end, num_gobble_windows, infilename] #add the info to the DataFrame\n",
    "                gobble_count += 1\n",
    "                while gobble_end - gobble_start < 96000:\n",
    "                    gobble_start -= 1000\n",
    "                    gobble_end += 1000\n",
    "                    if gobble_start < 0:\n",
    "                        gobble_start = 0\n",
    "                        break\n",
    "                    \n",
    "                outwav = inwav[1][gobble_start:gobble_end]\n",
    "                wavfile.write(temp_audio_out + infilename[:-4] + '_gobble_' + str(gobble_count - 1) + '.wav', 24000, outwav) #write the sound snippet to file\n",
    "        else: #no gobble and it wasn't tracking a gobble\n",
    "            pass \n",
    "        \n",
    "    return outdata, batch_results['result']"
   ]
  },
  {
   "cell_type": "markdown",
   "metadata": {},
   "source": [
    "### Give the path to a WAV file to run it through the CNN"
   ]
  },
  {
   "cell_type": "code",
   "execution_count": 140,
   "metadata": {},
   "outputs": [],
   "source": [
    "#dat = 'E:/CJunk/Turkey_gobble_identification/Darren_Data/test/CC20_20180414_050000.wav'\n",
    "#dat = 'E:/CJunk/Turkey_gobble_identification/Darren_Data/test/CC32_20180317_070002.wav'\n",
    "dat = 'E:/CJunk/Turkey_gobble_identification/Darren_Data/test/CC17_20180310_070002.wav'\n",
    "#dat = 'E:/CJunk/Turkey_gobble_identification/Darren_Data/test/CC16_20180303_060002.wav'"
   ]
  },
  {
   "cell_type": "code",
   "execution_count": 565,
   "metadata": {},
   "outputs": [],
   "source": [
    "#dat = 'E:/CJunk/Turkey_gobble_identification/Darren_Data/train/CC16_20180303_070002.wav'\n",
    "#dat = 'E:/CJunk/Turkey_gobble_identification/Darren_Data/train/CC16_20180303_080002.wav'\n",
    "#dat = 'E:/CJunk/Turkey_gobble_identification/Darren_Data/train/CC16_20180303_090002.wav'\n",
    "#dat = 'E:/CJunk/Turkey_gobble_identification/Darren_Data/train/CC16_20180303_100002.wav'\n",
    "#dat = 'E:/CJunk/Turkey_gobble_identification/Darren_Data/train/CC20_20180414_060002.wav'\n",
    "#dat = 'E:/CJunk/Turkey_gobble_identification/Darren_Data/train/CC20_20180414_070002.wav'\n",
    "#dat = 'E:/CJunk/Turkey_gobble_identification/Darren_Data/train/CC20_20180414_080002.wav'\n",
    "#dat = 'E:/CJunk/Turkey_gobble_identification/Darren_Data/train/CC32_20180301_080002.wav'\n",
    "#dat = 'E:/CJunk/Turkey_gobble_identification/Darren_Data/train/CC32_20180314_060002.wav'\n",
    "#dat = 'E:/CJunk/Turkey_gobble_identification/Darren_Data/train/CC32_20180314_070002.wav'\n",
    "#dat = 'E:/CJunk/Turkey_gobble_identification/Darren_Data/train/CC32_20180315_060002.wav'\n",
    "dat = 'E:/CJunk/Turkey_gobble_identification/Darren_Data/train/CC32_20180315_070002.wav'\n",
    "#dat = 'E:/CJunk/Turkey_gobble_identification/Darren_Data/train/CC32_20180316_060002.wav'\n",
    "#dat = 'E:/CJunk/Turkey_gobble_identification/Darren_Data/train/CC32_20180406_070002.wav'\n"
   ]
  },
  {
   "cell_type": "markdown",
   "metadata": {},
   "source": [
    "### This will actually run the function for putting the WAV file through the CNN"
   ]
  },
  {
   "cell_type": "code",
   "execution_count": 141,
   "metadata": {
    "scrolled": false
   },
   "outputs": [],
   "source": [
    "predictions, pred_scores = load_classify_images(dat)"
   ]
  },
  {
   "cell_type": "markdown",
   "metadata": {},
   "source": [
    "### Here's the number of 'gobbles' that were detected by the CNN.<br>\n",
    "Also, the information for the first 50 events. "
   ]
  },
  {
   "cell_type": "code",
   "execution_count": 142,
   "metadata": {
    "scrolled": false
   },
   "outputs": [
    {
     "name": "stdout",
     "output_type": "stream",
     "text": [
      "(42, 10)\n"
     ]
    },
    {
     "data": {
      "text/html": [
       "<div>\n",
       "<style scoped>\n",
       "    .dataframe tbody tr th:only-of-type {\n",
       "        vertical-align: middle;\n",
       "    }\n",
       "\n",
       "    .dataframe tbody tr th {\n",
       "        vertical-align: top;\n",
       "    }\n",
       "\n",
       "    .dataframe thead th {\n",
       "        text-align: right;\n",
       "    }\n",
       "</style>\n",
       "<table border=\"1\" class=\"dataframe\">\n",
       "  <thead>\n",
       "    <tr style=\"text-align: right;\">\n",
       "      <th></th>\n",
       "      <th>Event</th>\n",
       "      <th>Start_time</th>\n",
       "      <th>End_time</th>\n",
       "      <th>Gobble</th>\n",
       "      <th>Model_output</th>\n",
       "      <th>Min:Sec</th>\n",
       "      <th>Start_index</th>\n",
       "      <th>End_index</th>\n",
       "      <th>Num_windows</th>\n",
       "      <th>Begin File</th>\n",
       "    </tr>\n",
       "  </thead>\n",
       "  <tbody>\n",
       "    <tr>\n",
       "      <th>1</th>\n",
       "      <td>1</td>\n",
       "      <td>0.00</td>\n",
       "      <td>1.42</td>\n",
       "      <td>1</td>\n",
       "      <td>0.0897</td>\n",
       "      <td>0:00</td>\n",
       "      <td>0</td>\n",
       "      <td>34000</td>\n",
       "      <td>21</td>\n",
       "      <td>CC17_20180310_070002.wav</td>\n",
       "    </tr>\n",
       "    <tr>\n",
       "      <th>2</th>\n",
       "      <td>2</td>\n",
       "      <td>4.85</td>\n",
       "      <td>7.08</td>\n",
       "      <td>1</td>\n",
       "      <td>0.0657</td>\n",
       "      <td>0:05</td>\n",
       "      <td>116500</td>\n",
       "      <td>170000</td>\n",
       "      <td>60</td>\n",
       "      <td>CC17_20180310_070002.wav</td>\n",
       "    </tr>\n",
       "    <tr>\n",
       "      <th>3</th>\n",
       "      <td>3</td>\n",
       "      <td>8.38</td>\n",
       "      <td>10.17</td>\n",
       "      <td>1</td>\n",
       "      <td>0.0985</td>\n",
       "      <td>0:08</td>\n",
       "      <td>201000</td>\n",
       "      <td>244000</td>\n",
       "      <td>39</td>\n",
       "      <td>CC17_20180310_070002.wav</td>\n",
       "    </tr>\n",
       "    <tr>\n",
       "      <th>4</th>\n",
       "      <td>4</td>\n",
       "      <td>37.48</td>\n",
       "      <td>39.17</td>\n",
       "      <td>1</td>\n",
       "      <td>0.0921</td>\n",
       "      <td>0:37</td>\n",
       "      <td>899500</td>\n",
       "      <td>940000</td>\n",
       "      <td>34</td>\n",
       "      <td>CC17_20180310_070002.wav</td>\n",
       "    </tr>\n",
       "    <tr>\n",
       "      <th>5</th>\n",
       "      <td>5</td>\n",
       "      <td>38.50</td>\n",
       "      <td>39.88</td>\n",
       "      <td>1</td>\n",
       "      <td>0.3061</td>\n",
       "      <td>0:38</td>\n",
       "      <td>924000</td>\n",
       "      <td>957000</td>\n",
       "      <td>19</td>\n",
       "      <td>CC17_20180310_070002.wav</td>\n",
       "    </tr>\n",
       "    <tr>\n",
       "      <th>6</th>\n",
       "      <td>6</td>\n",
       "      <td>128.44</td>\n",
       "      <td>129.92</td>\n",
       "      <td>1</td>\n",
       "      <td>0.3062</td>\n",
       "      <td>2:08</td>\n",
       "      <td>3082500</td>\n",
       "      <td>3118000</td>\n",
       "      <td>24</td>\n",
       "      <td>CC17_20180310_070002.wav</td>\n",
       "    </tr>\n",
       "    <tr>\n",
       "      <th>7</th>\n",
       "      <td>7</td>\n",
       "      <td>130.81</td>\n",
       "      <td>132.23</td>\n",
       "      <td>1</td>\n",
       "      <td>0.2984</td>\n",
       "      <td>2:11</td>\n",
       "      <td>3139500</td>\n",
       "      <td>3173500</td>\n",
       "      <td>21</td>\n",
       "      <td>CC17_20180310_070002.wav</td>\n",
       "    </tr>\n",
       "    <tr>\n",
       "      <th>8</th>\n",
       "      <td>8</td>\n",
       "      <td>146.75</td>\n",
       "      <td>148.81</td>\n",
       "      <td>1</td>\n",
       "      <td>0.0667</td>\n",
       "      <td>2:27</td>\n",
       "      <td>3522000</td>\n",
       "      <td>3571500</td>\n",
       "      <td>52</td>\n",
       "      <td>CC17_20180310_070002.wav</td>\n",
       "    </tr>\n",
       "    <tr>\n",
       "      <th>9</th>\n",
       "      <td>9</td>\n",
       "      <td>192.27</td>\n",
       "      <td>194.67</td>\n",
       "      <td>1</td>\n",
       "      <td>0.1675</td>\n",
       "      <td>3:12</td>\n",
       "      <td>4614500</td>\n",
       "      <td>4672000</td>\n",
       "      <td>68</td>\n",
       "      <td>CC17_20180310_070002.wav</td>\n",
       "    </tr>\n",
       "    <tr>\n",
       "      <th>10</th>\n",
       "      <td>10</td>\n",
       "      <td>218.12</td>\n",
       "      <td>220.08</td>\n",
       "      <td>1</td>\n",
       "      <td>0.1072</td>\n",
       "      <td>3:38</td>\n",
       "      <td>5235000</td>\n",
       "      <td>5282000</td>\n",
       "      <td>47</td>\n",
       "      <td>CC17_20180310_070002.wav</td>\n",
       "    </tr>\n",
       "    <tr>\n",
       "      <th>11</th>\n",
       "      <td>11</td>\n",
       "      <td>230.65</td>\n",
       "      <td>233.60</td>\n",
       "      <td>1</td>\n",
       "      <td>0.1398</td>\n",
       "      <td>3:51</td>\n",
       "      <td>5535500</td>\n",
       "      <td>5606500</td>\n",
       "      <td>95</td>\n",
       "      <td>CC17_20180310_070002.wav</td>\n",
       "    </tr>\n",
       "    <tr>\n",
       "      <th>12</th>\n",
       "      <td>12</td>\n",
       "      <td>236.88</td>\n",
       "      <td>239.21</td>\n",
       "      <td>1</td>\n",
       "      <td>0.0591</td>\n",
       "      <td>3:57</td>\n",
       "      <td>5685000</td>\n",
       "      <td>5741000</td>\n",
       "      <td>65</td>\n",
       "      <td>CC17_20180310_070002.wav</td>\n",
       "    </tr>\n",
       "    <tr>\n",
       "      <th>13</th>\n",
       "      <td>13</td>\n",
       "      <td>240.29</td>\n",
       "      <td>241.69</td>\n",
       "      <td>1</td>\n",
       "      <td>0.1652</td>\n",
       "      <td>4:00</td>\n",
       "      <td>5767000</td>\n",
       "      <td>5800500</td>\n",
       "      <td>20</td>\n",
       "      <td>CC17_20180310_070002.wav</td>\n",
       "    </tr>\n",
       "    <tr>\n",
       "      <th>14</th>\n",
       "      <td>14</td>\n",
       "      <td>240.90</td>\n",
       "      <td>242.48</td>\n",
       "      <td>1</td>\n",
       "      <td>0.1922</td>\n",
       "      <td>4:01</td>\n",
       "      <td>5781500</td>\n",
       "      <td>5819500</td>\n",
       "      <td>29</td>\n",
       "      <td>CC17_20180310_070002.wav</td>\n",
       "    </tr>\n",
       "    <tr>\n",
       "      <th>15</th>\n",
       "      <td>15</td>\n",
       "      <td>273.77</td>\n",
       "      <td>275.31</td>\n",
       "      <td>1</td>\n",
       "      <td>0.1783</td>\n",
       "      <td>4:34</td>\n",
       "      <td>6570500</td>\n",
       "      <td>6607500</td>\n",
       "      <td>27</td>\n",
       "      <td>CC17_20180310_070002.wav</td>\n",
       "    </tr>\n",
       "    <tr>\n",
       "      <th>16</th>\n",
       "      <td>16</td>\n",
       "      <td>275.94</td>\n",
       "      <td>277.27</td>\n",
       "      <td>1</td>\n",
       "      <td>0.2061</td>\n",
       "      <td>4:36</td>\n",
       "      <td>6622500</td>\n",
       "      <td>6654500</td>\n",
       "      <td>17</td>\n",
       "      <td>CC17_20180310_070002.wav</td>\n",
       "    </tr>\n",
       "    <tr>\n",
       "      <th>17</th>\n",
       "      <td>17</td>\n",
       "      <td>308.62</td>\n",
       "      <td>310.06</td>\n",
       "      <td>1</td>\n",
       "      <td>0.1398</td>\n",
       "      <td>5:09</td>\n",
       "      <td>7407000</td>\n",
       "      <td>7441500</td>\n",
       "      <td>22</td>\n",
       "      <td>CC17_20180310_070002.wav</td>\n",
       "    </tr>\n",
       "    <tr>\n",
       "      <th>18</th>\n",
       "      <td>18</td>\n",
       "      <td>309.35</td>\n",
       "      <td>310.71</td>\n",
       "      <td>1</td>\n",
       "      <td>0.3538</td>\n",
       "      <td>5:09</td>\n",
       "      <td>7424500</td>\n",
       "      <td>7457000</td>\n",
       "      <td>18</td>\n",
       "      <td>CC17_20180310_070002.wav</td>\n",
       "    </tr>\n",
       "    <tr>\n",
       "      <th>19</th>\n",
       "      <td>19</td>\n",
       "      <td>327.25</td>\n",
       "      <td>328.60</td>\n",
       "      <td>1</td>\n",
       "      <td>0.3411</td>\n",
       "      <td>5:27</td>\n",
       "      <td>7854000</td>\n",
       "      <td>7886500</td>\n",
       "      <td>18</td>\n",
       "      <td>CC17_20180310_070002.wav</td>\n",
       "    </tr>\n",
       "    <tr>\n",
       "      <th>20</th>\n",
       "      <td>20</td>\n",
       "      <td>339.54</td>\n",
       "      <td>341.67</td>\n",
       "      <td>1</td>\n",
       "      <td>0.1500</td>\n",
       "      <td>5:40</td>\n",
       "      <td>8149000</td>\n",
       "      <td>8200000</td>\n",
       "      <td>55</td>\n",
       "      <td>CC17_20180310_070002.wav</td>\n",
       "    </tr>\n",
       "    <tr>\n",
       "      <th>21</th>\n",
       "      <td>21</td>\n",
       "      <td>967.77</td>\n",
       "      <td>969.62</td>\n",
       "      <td>1</td>\n",
       "      <td>0.1756</td>\n",
       "      <td>16:08</td>\n",
       "      <td>23226500</td>\n",
       "      <td>23271000</td>\n",
       "      <td>42</td>\n",
       "      <td>CC17_20180310_070002.wav</td>\n",
       "    </tr>\n",
       "    <tr>\n",
       "      <th>22</th>\n",
       "      <td>22</td>\n",
       "      <td>1594.42</td>\n",
       "      <td>1596.81</td>\n",
       "      <td>1</td>\n",
       "      <td>0.1899</td>\n",
       "      <td>26:34</td>\n",
       "      <td>38266000</td>\n",
       "      <td>38323500</td>\n",
       "      <td>68</td>\n",
       "      <td>CC17_20180310_070002.wav</td>\n",
       "    </tr>\n",
       "    <tr>\n",
       "      <th>23</th>\n",
       "      <td>23</td>\n",
       "      <td>1604.52</td>\n",
       "      <td>1606.29</td>\n",
       "      <td>1</td>\n",
       "      <td>0.1812</td>\n",
       "      <td>26:45</td>\n",
       "      <td>38508500</td>\n",
       "      <td>38551000</td>\n",
       "      <td>38</td>\n",
       "      <td>CC17_20180310_070002.wav</td>\n",
       "    </tr>\n",
       "    <tr>\n",
       "      <th>24</th>\n",
       "      <td>24</td>\n",
       "      <td>1682.21</td>\n",
       "      <td>1684.50</td>\n",
       "      <td>1</td>\n",
       "      <td>0.0633</td>\n",
       "      <td>28:02</td>\n",
       "      <td>40373000</td>\n",
       "      <td>40428000</td>\n",
       "      <td>63</td>\n",
       "      <td>CC17_20180310_070002.wav</td>\n",
       "    </tr>\n",
       "    <tr>\n",
       "      <th>25</th>\n",
       "      <td>25</td>\n",
       "      <td>1683.81</td>\n",
       "      <td>1685.94</td>\n",
       "      <td>1</td>\n",
       "      <td>0.2381</td>\n",
       "      <td>28:04</td>\n",
       "      <td>40411500</td>\n",
       "      <td>40462500</td>\n",
       "      <td>55</td>\n",
       "      <td>CC17_20180310_070002.wav</td>\n",
       "    </tr>\n",
       "    <tr>\n",
       "      <th>26</th>\n",
       "      <td>26</td>\n",
       "      <td>1685.15</td>\n",
       "      <td>1687.60</td>\n",
       "      <td>1</td>\n",
       "      <td>0.1760</td>\n",
       "      <td>28:05</td>\n",
       "      <td>40443500</td>\n",
       "      <td>40502500</td>\n",
       "      <td>71</td>\n",
       "      <td>CC17_20180310_070002.wav</td>\n",
       "    </tr>\n",
       "    <tr>\n",
       "      <th>27</th>\n",
       "      <td>27</td>\n",
       "      <td>1756.98</td>\n",
       "      <td>1758.75</td>\n",
       "      <td>1</td>\n",
       "      <td>0.1674</td>\n",
       "      <td>29:17</td>\n",
       "      <td>42167500</td>\n",
       "      <td>42210000</td>\n",
       "      <td>38</td>\n",
       "      <td>CC17_20180310_070002.wav</td>\n",
       "    </tr>\n",
       "    <tr>\n",
       "      <th>28</th>\n",
       "      <td>28</td>\n",
       "      <td>1826.19</td>\n",
       "      <td>1827.75</td>\n",
       "      <td>1</td>\n",
       "      <td>0.2191</td>\n",
       "      <td>30:26</td>\n",
       "      <td>43828500</td>\n",
       "      <td>43866000</td>\n",
       "      <td>28</td>\n",
       "      <td>CC17_20180310_070002.wav</td>\n",
       "    </tr>\n",
       "    <tr>\n",
       "      <th>29</th>\n",
       "      <td>29</td>\n",
       "      <td>1860.40</td>\n",
       "      <td>1862.79</td>\n",
       "      <td>1</td>\n",
       "      <td>0.1191</td>\n",
       "      <td>31:00</td>\n",
       "      <td>44649500</td>\n",
       "      <td>44707000</td>\n",
       "      <td>68</td>\n",
       "      <td>CC17_20180310_070002.wav</td>\n",
       "    </tr>\n",
       "    <tr>\n",
       "      <th>30</th>\n",
       "      <td>30</td>\n",
       "      <td>1862.04</td>\n",
       "      <td>1865.02</td>\n",
       "      <td>1</td>\n",
       "      <td>0.1191</td>\n",
       "      <td>31:02</td>\n",
       "      <td>44689000</td>\n",
       "      <td>44760500</td>\n",
       "      <td>96</td>\n",
       "      <td>CC17_20180310_070002.wav</td>\n",
       "    </tr>\n",
       "    <tr>\n",
       "      <th>31</th>\n",
       "      <td>31</td>\n",
       "      <td>1903.88</td>\n",
       "      <td>1905.52</td>\n",
       "      <td>1</td>\n",
       "      <td>0.0508</td>\n",
       "      <td>31:44</td>\n",
       "      <td>45693000</td>\n",
       "      <td>45732500</td>\n",
       "      <td>32</td>\n",
       "      <td>CC17_20180310_070002.wav</td>\n",
       "    </tr>\n",
       "    <tr>\n",
       "      <th>32</th>\n",
       "      <td>32</td>\n",
       "      <td>1906.65</td>\n",
       "      <td>1908.88</td>\n",
       "      <td>1</td>\n",
       "      <td>0.1435</td>\n",
       "      <td>31:47</td>\n",
       "      <td>45759500</td>\n",
       "      <td>45813000</td>\n",
       "      <td>60</td>\n",
       "      <td>CC17_20180310_070002.wav</td>\n",
       "    </tr>\n",
       "    <tr>\n",
       "      <th>33</th>\n",
       "      <td>33</td>\n",
       "      <td>1910.79</td>\n",
       "      <td>1912.19</td>\n",
       "      <td>1</td>\n",
       "      <td>0.0971</td>\n",
       "      <td>31:51</td>\n",
       "      <td>45859000</td>\n",
       "      <td>45892500</td>\n",
       "      <td>20</td>\n",
       "      <td>CC17_20180310_070002.wav</td>\n",
       "    </tr>\n",
       "    <tr>\n",
       "      <th>34</th>\n",
       "      <td>34</td>\n",
       "      <td>1912.90</td>\n",
       "      <td>1914.35</td>\n",
       "      <td>1</td>\n",
       "      <td>0.1901</td>\n",
       "      <td>31:53</td>\n",
       "      <td>45909500</td>\n",
       "      <td>45944500</td>\n",
       "      <td>23</td>\n",
       "      <td>CC17_20180310_070002.wav</td>\n",
       "    </tr>\n",
       "    <tr>\n",
       "      <th>35</th>\n",
       "      <td>35</td>\n",
       "      <td>1915.42</td>\n",
       "      <td>1917.23</td>\n",
       "      <td>1</td>\n",
       "      <td>0.1729</td>\n",
       "      <td>31:55</td>\n",
       "      <td>45970000</td>\n",
       "      <td>46013500</td>\n",
       "      <td>40</td>\n",
       "      <td>CC17_20180310_070002.wav</td>\n",
       "    </tr>\n",
       "    <tr>\n",
       "      <th>36</th>\n",
       "      <td>36</td>\n",
       "      <td>2172.90</td>\n",
       "      <td>2174.33</td>\n",
       "      <td>1</td>\n",
       "      <td>0.1776</td>\n",
       "      <td>36:13</td>\n",
       "      <td>52149500</td>\n",
       "      <td>52184000</td>\n",
       "      <td>22</td>\n",
       "      <td>CC17_20180310_070002.wav</td>\n",
       "    </tr>\n",
       "    <tr>\n",
       "      <th>37</th>\n",
       "      <td>37</td>\n",
       "      <td>2688.88</td>\n",
       "      <td>2690.40</td>\n",
       "      <td>1</td>\n",
       "      <td>0.1283</td>\n",
       "      <td>44:49</td>\n",
       "      <td>64533000</td>\n",
       "      <td>64569500</td>\n",
       "      <td>26</td>\n",
       "      <td>CC17_20180310_070002.wav</td>\n",
       "    </tr>\n",
       "    <tr>\n",
       "      <th>38</th>\n",
       "      <td>38</td>\n",
       "      <td>2691.81</td>\n",
       "      <td>2693.29</td>\n",
       "      <td>1</td>\n",
       "      <td>0.0810</td>\n",
       "      <td>44:52</td>\n",
       "      <td>64603500</td>\n",
       "      <td>64639000</td>\n",
       "      <td>24</td>\n",
       "      <td>CC17_20180310_070002.wav</td>\n",
       "    </tr>\n",
       "    <tr>\n",
       "      <th>39</th>\n",
       "      <td>39</td>\n",
       "      <td>2699.83</td>\n",
       "      <td>2701.25</td>\n",
       "      <td>1</td>\n",
       "      <td>0.1032</td>\n",
       "      <td>44:60</td>\n",
       "      <td>64796000</td>\n",
       "      <td>64830000</td>\n",
       "      <td>21</td>\n",
       "      <td>CC17_20180310_070002.wav</td>\n",
       "    </tr>\n",
       "    <tr>\n",
       "      <th>40</th>\n",
       "      <td>40</td>\n",
       "      <td>3021.48</td>\n",
       "      <td>3024.31</td>\n",
       "      <td>1</td>\n",
       "      <td>0.1081</td>\n",
       "      <td>50:21</td>\n",
       "      <td>72515500</td>\n",
       "      <td>72583500</td>\n",
       "      <td>89</td>\n",
       "      <td>CC17_20180310_070002.wav</td>\n",
       "    </tr>\n",
       "    <tr>\n",
       "      <th>41</th>\n",
       "      <td>41</td>\n",
       "      <td>3474.60</td>\n",
       "      <td>3477.60</td>\n",
       "      <td>1</td>\n",
       "      <td>0.0366</td>\n",
       "      <td>57:55</td>\n",
       "      <td>83390500</td>\n",
       "      <td>83462500</td>\n",
       "      <td>97</td>\n",
       "      <td>CC17_20180310_070002.wav</td>\n",
       "    </tr>\n",
       "    <tr>\n",
       "      <th>42</th>\n",
       "      <td>42</td>\n",
       "      <td>3565.56</td>\n",
       "      <td>3568.69</td>\n",
       "      <td>1</td>\n",
       "      <td>0.0288</td>\n",
       "      <td>59:26</td>\n",
       "      <td>85573500</td>\n",
       "      <td>85648500</td>\n",
       "      <td>103</td>\n",
       "      <td>CC17_20180310_070002.wav</td>\n",
       "    </tr>\n",
       "  </tbody>\n",
       "</table>\n",
       "</div>"
      ],
      "text/plain": [
       "   Event  Start_time  End_time Gobble  Model_output Min:Sec Start_index  \\\n",
       "1      1        0.00      1.42      1        0.0897    0:00           0   \n",
       "2      2        4.85      7.08      1        0.0657    0:05      116500   \n",
       "3      3        8.38     10.17      1        0.0985    0:08      201000   \n",
       "4      4       37.48     39.17      1        0.0921    0:37      899500   \n",
       "5      5       38.50     39.88      1        0.3061    0:38      924000   \n",
       "6      6      128.44    129.92      1        0.3062    2:08     3082500   \n",
       "7      7      130.81    132.23      1        0.2984    2:11     3139500   \n",
       "8      8      146.75    148.81      1        0.0667    2:27     3522000   \n",
       "9      9      192.27    194.67      1        0.1675    3:12     4614500   \n",
       "10    10      218.12    220.08      1        0.1072    3:38     5235000   \n",
       "11    11      230.65    233.60      1        0.1398    3:51     5535500   \n",
       "12    12      236.88    239.21      1        0.0591    3:57     5685000   \n",
       "13    13      240.29    241.69      1        0.1652    4:00     5767000   \n",
       "14    14      240.90    242.48      1        0.1922    4:01     5781500   \n",
       "15    15      273.77    275.31      1        0.1783    4:34     6570500   \n",
       "16    16      275.94    277.27      1        0.2061    4:36     6622500   \n",
       "17    17      308.62    310.06      1        0.1398    5:09     7407000   \n",
       "18    18      309.35    310.71      1        0.3538    5:09     7424500   \n",
       "19    19      327.25    328.60      1        0.3411    5:27     7854000   \n",
       "20    20      339.54    341.67      1        0.1500    5:40     8149000   \n",
       "21    21      967.77    969.62      1        0.1756   16:08    23226500   \n",
       "22    22     1594.42   1596.81      1        0.1899   26:34    38266000   \n",
       "23    23     1604.52   1606.29      1        0.1812   26:45    38508500   \n",
       "24    24     1682.21   1684.50      1        0.0633   28:02    40373000   \n",
       "25    25     1683.81   1685.94      1        0.2381   28:04    40411500   \n",
       "26    26     1685.15   1687.60      1        0.1760   28:05    40443500   \n",
       "27    27     1756.98   1758.75      1        0.1674   29:17    42167500   \n",
       "28    28     1826.19   1827.75      1        0.2191   30:26    43828500   \n",
       "29    29     1860.40   1862.79      1        0.1191   31:00    44649500   \n",
       "30    30     1862.04   1865.02      1        0.1191   31:02    44689000   \n",
       "31    31     1903.88   1905.52      1        0.0508   31:44    45693000   \n",
       "32    32     1906.65   1908.88      1        0.1435   31:47    45759500   \n",
       "33    33     1910.79   1912.19      1        0.0971   31:51    45859000   \n",
       "34    34     1912.90   1914.35      1        0.1901   31:53    45909500   \n",
       "35    35     1915.42   1917.23      1        0.1729   31:55    45970000   \n",
       "36    36     2172.90   2174.33      1        0.1776   36:13    52149500   \n",
       "37    37     2688.88   2690.40      1        0.1283   44:49    64533000   \n",
       "38    38     2691.81   2693.29      1        0.0810   44:52    64603500   \n",
       "39    39     2699.83   2701.25      1        0.1032   44:60    64796000   \n",
       "40    40     3021.48   3024.31      1        0.1081   50:21    72515500   \n",
       "41    41     3474.60   3477.60      1        0.0366   57:55    83390500   \n",
       "42    42     3565.56   3568.69      1        0.0288   59:26    85573500   \n",
       "\n",
       "   End_index Num_windows                Begin File  \n",
       "1      34000          21  CC17_20180310_070002.wav  \n",
       "2     170000          60  CC17_20180310_070002.wav  \n",
       "3     244000          39  CC17_20180310_070002.wav  \n",
       "4     940000          34  CC17_20180310_070002.wav  \n",
       "5     957000          19  CC17_20180310_070002.wav  \n",
       "6    3118000          24  CC17_20180310_070002.wav  \n",
       "7    3173500          21  CC17_20180310_070002.wav  \n",
       "8    3571500          52  CC17_20180310_070002.wav  \n",
       "9    4672000          68  CC17_20180310_070002.wav  \n",
       "10   5282000          47  CC17_20180310_070002.wav  \n",
       "11   5606500          95  CC17_20180310_070002.wav  \n",
       "12   5741000          65  CC17_20180310_070002.wav  \n",
       "13   5800500          20  CC17_20180310_070002.wav  \n",
       "14   5819500          29  CC17_20180310_070002.wav  \n",
       "15   6607500          27  CC17_20180310_070002.wav  \n",
       "16   6654500          17  CC17_20180310_070002.wav  \n",
       "17   7441500          22  CC17_20180310_070002.wav  \n",
       "18   7457000          18  CC17_20180310_070002.wav  \n",
       "19   7886500          18  CC17_20180310_070002.wav  \n",
       "20   8200000          55  CC17_20180310_070002.wav  \n",
       "21  23271000          42  CC17_20180310_070002.wav  \n",
       "22  38323500          68  CC17_20180310_070002.wav  \n",
       "23  38551000          38  CC17_20180310_070002.wav  \n",
       "24  40428000          63  CC17_20180310_070002.wav  \n",
       "25  40462500          55  CC17_20180310_070002.wav  \n",
       "26  40502500          71  CC17_20180310_070002.wav  \n",
       "27  42210000          38  CC17_20180310_070002.wav  \n",
       "28  43866000          28  CC17_20180310_070002.wav  \n",
       "29  44707000          68  CC17_20180310_070002.wav  \n",
       "30  44760500          96  CC17_20180310_070002.wav  \n",
       "31  45732500          32  CC17_20180310_070002.wav  \n",
       "32  45813000          60  CC17_20180310_070002.wav  \n",
       "33  45892500          20  CC17_20180310_070002.wav  \n",
       "34  45944500          23  CC17_20180310_070002.wav  \n",
       "35  46013500          40  CC17_20180310_070002.wav  \n",
       "36  52184000          22  CC17_20180310_070002.wav  \n",
       "37  64569500          26  CC17_20180310_070002.wav  \n",
       "38  64639000          24  CC17_20180310_070002.wav  \n",
       "39  64830000          21  CC17_20180310_070002.wav  \n",
       "40  72583500          89  CC17_20180310_070002.wav  \n",
       "41  83462500          97  CC17_20180310_070002.wav  \n",
       "42  85648500         103  CC17_20180310_070002.wav  "
      ]
     },
     "execution_count": 142,
     "metadata": {},
     "output_type": "execute_result"
    }
   ],
   "source": [
    "print(predictions.shape)\n",
    "predictions[:60]"
   ]
  },
  {
   "cell_type": "code",
   "execution_count": 143,
   "metadata": {
    "scrolled": false
   },
   "outputs": [
    {
     "name": "stdout",
     "output_type": "stream",
     "text": [
      "0.15453095238095238\n"
     ]
    },
    {
     "data": {
      "text/html": [
       "<div>\n",
       "<style scoped>\n",
       "    .dataframe tbody tr th:only-of-type {\n",
       "        vertical-align: middle;\n",
       "    }\n",
       "\n",
       "    .dataframe tbody tr th {\n",
       "        vertical-align: top;\n",
       "    }\n",
       "\n",
       "    .dataframe thead th {\n",
       "        text-align: right;\n",
       "    }\n",
       "</style>\n",
       "<table border=\"1\" class=\"dataframe\">\n",
       "  <thead>\n",
       "    <tr style=\"text-align: right;\">\n",
       "      <th></th>\n",
       "      <th>Event</th>\n",
       "      <th>Start_time</th>\n",
       "      <th>End_time</th>\n",
       "      <th>Gobble</th>\n",
       "      <th>Model_output</th>\n",
       "      <th>Min:Sec</th>\n",
       "      <th>Start_index</th>\n",
       "      <th>End_index</th>\n",
       "      <th>Num_windows</th>\n",
       "      <th>Begin File</th>\n",
       "    </tr>\n",
       "  </thead>\n",
       "  <tbody>\n",
       "  </tbody>\n",
       "</table>\n",
       "</div>"
      ],
      "text/plain": [
       "Empty DataFrame\n",
       "Columns: [Event, Start_time, End_time, Gobble, Model_output, Min:Sec, Start_index, End_index, Num_windows, Begin File]\n",
       "Index: []"
      ]
     },
     "execution_count": 143,
     "metadata": {},
     "output_type": "execute_result"
    }
   ],
   "source": [
    "print(predictions.Model_output.mean())\n",
    "predictions[60:120]"
   ]
  },
  {
   "cell_type": "code",
   "execution_count": 41,
   "metadata": {
    "scrolled": true
   },
   "outputs": [
    {
     "name": "stdout",
     "output_type": "stream",
     "text": [
      "(86, 10)\n"
     ]
    },
    {
     "data": {
      "text/html": [
       "<div>\n",
       "<style scoped>\n",
       "    .dataframe tbody tr th:only-of-type {\n",
       "        vertical-align: middle;\n",
       "    }\n",
       "\n",
       "    .dataframe tbody tr th {\n",
       "        vertical-align: top;\n",
       "    }\n",
       "\n",
       "    .dataframe thead th {\n",
       "        text-align: right;\n",
       "    }\n",
       "</style>\n",
       "<table border=\"1\" class=\"dataframe\">\n",
       "  <thead>\n",
       "    <tr style=\"text-align: right;\">\n",
       "      <th></th>\n",
       "      <th>Event</th>\n",
       "      <th>Start_time</th>\n",
       "      <th>End_time</th>\n",
       "      <th>Gobble</th>\n",
       "      <th>Model_output</th>\n",
       "      <th>Min:Sec</th>\n",
       "      <th>Start_index</th>\n",
       "      <th>End_index</th>\n",
       "      <th>Num_windows</th>\n",
       "      <th>Begin File</th>\n",
       "    </tr>\n",
       "  </thead>\n",
       "  <tbody>\n",
       "  </tbody>\n",
       "</table>\n",
       "</div>"
      ],
      "text/plain": [
       "Empty DataFrame\n",
       "Columns: [Event, Start_time, End_time, Gobble, Model_output, Min:Sec, Start_index, End_index, Num_windows, Begin File]\n",
       "Index: []"
      ]
     },
     "execution_count": 41,
     "metadata": {},
     "output_type": "execute_result"
    }
   ],
   "source": [
    "print(predictions.shape)\n",
    "predictions[120:180]"
   ]
  },
  {
   "cell_type": "code",
   "execution_count": 47,
   "metadata": {},
   "outputs": [],
   "source": [
    "predictions.to_csv('E:/CJunk/Turkey_gobble_identification/Darren_Data/CC32_20180317_070002_model_26Nov2019_small_40_epochs_window2000.txt', sep='\\t')"
   ]
  },
  {
   "cell_type": "code",
   "execution_count": null,
   "metadata": {},
   "outputs": [],
   "source": []
  },
  {
   "cell_type": "code",
   "execution_count": 175,
   "metadata": {},
   "outputs": [],
   "source": [
    "#dat = 'E:/CJunk/Turkey_gobble_identification/Darren_Data/train/CC32_20180312_070002.wav'\n",
    "#dat = 'E:/CJunk/Turkey_gobble_identification/Darren_Data/train/CC32_20180316_060002.wav'\n",
    "#dat = 'E:/CJunk/Turkey_gobble_identification/Darren_Data/train/CC32_20180524_080002.wav'\n",
    "#dat = 'E:/CJunk/Turkey_gobble_identification/Darren_Data/train/CC32_20180301_080002.wav'\n",
    "#dat = 'E:/CJunk/Turkey_gobble_identification/Darren_Data/train/CC32_20180315_060002.wav'\n",
    "#dat = 'E:/CJunk/Turkey_gobble_identification/Darren_Data/train/CC32_20180317_080002.wav'\n",
    "#dat = 'E:/CJunk/Turkey_gobble_identification/Darren_Data/train/CC32_20180406_070002.wav'\n",
    "#dat = 'E:/CJunk/Turkey_gobble_identification/Darren_Data/train/CC32_20180423_080002.wav'\n",
    "#dat = 'E:/CJunk/Turkey_gobble_identification/Darren_Data/train/CC16_20180303_080002.wav'\n",
    "#dat = 'E:/CJunk/Turkey_gobble_identification/Darren_Data/train/CC32_20180314_060002.wav'\n",
    "#dat = 'E:/CJunk/Turkey_gobble_identification/Darren_Data/train/CC32_20180409_090002.wav'\n",
    "#dat = 'E:/CJunk/Turkey_gobble_identification/Darren_Data/train/CC16_20180303_070002.wav'\n",
    "#dat = 'E:/CJunk/Turkey_gobble_identification/Darren_Data/train/CC16_20180303_100002.wav'\n",
    "#dat = 'E:/CJunk/Turkey_gobble_identification/Darren_Data/train/CC32_20180317_060002.wav'\n",
    "#dat = 'E:/CJunk/Turkey_gobble_identification/Darren_Data/train/CC16_20180303_090002.wav'\n",
    "#dat = 'E:/CJunk/Turkey_gobble_identification/Darren_Data/train/CC32_20180318_070002.wav'\n",
    "dat = 'E:/CJunk/Turkey_gobble_identification/Darren_Data/train/CC32_20180413_060002.wav'\n",
    "#dat = 'E:/CJunk/Turkey_gobble_identification/Darren_Data/train/CC32_20180315_070002.wav'\n",
    "#dat = 'E:/CJunk/Turkey_gobble_identification/Darren_Data/train/CC32_20180314_070002.wav'\n"
   ]
  },
  {
   "cell_type": "code",
   "execution_count": 49,
   "metadata": {
    "scrolled": false
   },
   "outputs": [],
   "source": [
    "predictions = load_classify_images(dat)"
   ]
  },
  {
   "cell_type": "code",
   "execution_count": 113,
   "metadata": {},
   "outputs": [
    {
     "name": "stdout",
     "output_type": "stream",
     "text": [
      "Using matplotlib backend: Qt5Agg\n",
      "Populating the interactive namespace from numpy and matplotlib\n"
     ]
    }
   ],
   "source": [
    "%pylab\n",
    "import matplotlib\n",
    "import pandas as pd\n",
    "%matplotlib inline\n",
    "figsize(10,15)"
   ]
  },
  {
   "cell_type": "code",
   "execution_count": 506,
   "metadata": {},
   "outputs": [],
   "source": [
    "plot(pred_scores[:])\n",
    "\n",
    "hlines(0.5, 0, 44000)\n",
    "xlim(0, len(pred_scores))\n",
    "xvals = list((array(range(len(pred_scores)))*0.08333))\n",
    "#xticks(xvals)"
   ]
  },
  {
   "cell_type": "code",
   "execution_count": 13,
   "metadata": {},
   "outputs": [],
   "source": [
    "close('all')"
   ]
  },
  {
   "cell_type": "code",
   "execution_count": 114,
   "metadata": {},
   "outputs": [],
   "source": [
    "xvals = list((array(range(len(pred_scores)))*(500/24000.)))\n",
    "df = pd.DataFrame(pred_scores, columns=['scores'], index=xvals)"
   ]
  },
  {
   "cell_type": "code",
   "execution_count": 115,
   "metadata": {},
   "outputs": [
    {
     "data": {
      "text/plain": [
       "<matplotlib.axes._subplots.AxesSubplot at 0x1e649e65400>"
      ]
     },
     "execution_count": 115,
     "metadata": {},
     "output_type": "execute_result"
    },
    {
     "data": {
      "image/png": "[encoded data removed]",
      "text/plain": [
       "<Figure size 432x288 with 1 Axes>"
      ]
     },
     "metadata": {
      "needs_background": "light"
     },
     "output_type": "display_data"
    }
   ],
   "source": [
    "df.scores.plot(marker='o')\n",
    "df.scores.rolling(window=6).mean().plot()"
   ]
  },
  {
   "cell_type": "code",
   "execution_count": 116,
   "metadata": {},
   "outputs": [
    {
     "data": {
      "text/plain": [
       "<matplotlib.axes._subplots.AxesSubplot at 0x1e47fc93c50>"
      ]
     },
     "execution_count": 116,
     "metadata": {},
     "output_type": "execute_result"
    },
    {
     "data": {
      "image/png": "[encoded data removed]",
      "text/plain": [
       "<Figure size 432x288 with 1 Axes>"
      ]
     },
     "metadata": {
      "needs_background": "light"
     },
     "output_type": "display_data"
    }
   ],
   "source": [
    "df.scores[3000:3030].plot(marker='o')\n",
    "df.scores[3000:3030].rolling(window=6).mean().plot()"
   ]
  },
  {
   "cell_type": "code",
   "execution_count": null,
   "metadata": {},
   "outputs": [],
   "source": []
  },
  {
   "cell_type": "code",
   "execution_count": 99,
   "metadata": {},
   "outputs": [],
   "source": [
    "from scipy.signal import butter, lfilter\n",
    "def butter_bandpass(lowcut, highcut, fs, order=5):\n",
    "    nyq = 0.5 * fs\n",
    "    low = lowcut / nyq\n",
    "    high = highcut / nyq\n",
    "    b, a = butter(order, [low, high], btype='bandpass')\n",
    "    return b, a\n",
    "\n",
    "\n",
    "def butter_bandpass_filter(data, lowcut, highcut, fs, order=5):\n",
    "    b, a = butter_bandpass(lowcut, highcut, fs, order=order)\n",
    "    y = lfilter(b, a, data)\n",
    "    return y\n",
    "\n",
    "\n",
    "lowcut = 500.0\n",
    "highcut = 1475.0\n",
    "\n"
   ]
  },
  {
   "cell_type": "code",
   "execution_count": 124,
   "metadata": {},
   "outputs": [],
   "source": [
    "#bandpass version of this function\n",
    "\n",
    "\n",
    "\n",
    "\n",
    "temp_audio_out = 'E:/CJunk/Turkey_gobble_identification/Darren_Data/audio_out/'\n",
    "def load_classify_images(infile):\n",
    "    image_size_x = 125\n",
    "    image_size_y = 49\n",
    "    stft_params = {'nperseg':1000, 'noverlap':500}\n",
    "    stft_conversion = stft_params['nperseg'] - stft_params['noverlap']\n",
    "    window_shift_size = 500 #6000 equal 0.25seconds\n",
    "    window_shift_size = int(window_shift_size / stft_conversion) #convert the window shift into stft units\n",
    "    inwav = wavfile.read(infile) #load the raw WAV file\n",
    "    outdata = pd.DataFrame(columns=['Event', 'Start_time', 'End_time', 'Gobble', 'Model_output', 'Min:Sec', 'Start_index', 'End_index', 'Num_windows', 'Begin File'])\n",
    "    infilename = infile.split('/')[-1]\n",
    "    gobble_count = 1\n",
    "    results = []\n",
    "    track_gobble = False\n",
    "    gobble_start = 0\n",
    "    gobble_end = 24000\n",
    "    batch_results = {'start':[], 'end':[], 'result':[]}\n",
    "    img_batch = []\n",
    "    inwav_bandpass = butter_bandpass_filter(inwav[1], lowcut, highcut, 24000, order=6)\n",
    "    f, t, Zxx = signal.stft(inwav_bandpass, 24000, nperseg=stft_params['nperseg'], noverlap=stft_params['noverlap']) #calculate the short time Fourier transform\n",
    "    Zxx = np.abs(Zxx)[25:150, :]     \n",
    "    \n",
    "    #generate the window slices and run them through the CNN\n",
    "    for image in range(0, int(Zxx.shape[1]), window_shift_size): #go through the WAV file in 1/12th second intervals (2000)\n",
    "#         if image % 10000 == 0:\n",
    "#             print(image)\n",
    "        start_ind = image\n",
    "        end_ind = image + 48\n",
    "        \n",
    "        if end_ind + 48 >= int(Zxx.shape[1]): #reached the end of the WAV file; no more 2s windows available\n",
    "            continue\n",
    "        else:\n",
    "            batch_results['start'].append(start_ind)\n",
    "            batch_results['end'].append(end_ind)\n",
    "            img = Zxx[:, start_ind:start_ind+image_size_y].astype('int16') #slice the resulting array down to the proper size for input into the CNN\n",
    "            img = img.reshape(image_size_x,image_size_y,1) \n",
    "            img = img/255.\n",
    "            img_batch.append(img)\n",
    "            if len(img_batch) == 16:\n",
    "                out = model.predict(np.array(img_batch)) #run the images through the CNN\n",
    "                for indiv_result in out:\n",
    "                    batch_results['result'].append(indiv_result)\n",
    "                img_batch = []\n",
    "    \n",
    "    if len(img_batch) > 0: #pickup the last few windows in case it doesn't end on a clean multiple of 16\n",
    "        out = model.predict(np.array(img_batch)) #run the images through the CNN\n",
    "        for indiv_result in out:\n",
    "            batch_results['result'].append(indiv_result)\n",
    "        img_batch = []\n",
    "        \n",
    "    #aggregate the results of the CNN    \n",
    "    for result in range(len(batch_results['start'])):\n",
    "        start_ind = batch_results['start'][result] * stft_conversion #convert back to WAV files units\n",
    "        end_ind = batch_results['end'][result] * stft_conversion #convert back to WAV files units\n",
    "        out = batch_results['result'][result][0]\n",
    "        #if round(out) == 0 and not track_gobble: #CNN said it's a gobble; start tracking the length of the gobble window\n",
    "        if out < 0.4 and not track_gobble: #CNN said it's a gobble; start tracking the length of the gobble window\n",
    "            track_gobble = True\n",
    "            gobble_start = start_ind\n",
    "            gobble_end = start_ind + 24000\n",
    "            gobble_predict_value = out\n",
    "            num_gobble_windows = 1\n",
    "        #elif round(out) == 0: #CNN said this window is still part of the previous gobble\n",
    "        elif out < 0.5 and track_gobble: #CNN said this window is still part of the previous gobble\n",
    "            #if start_ind > gobble_end:\n",
    "            gobble_end += int(window_shift_size * stft_conversion) #extend the window size of the gobble\n",
    "            gobble_predict_value += out\n",
    "            num_gobble_windows += 1\n",
    "        elif track_gobble == True: #CNN said the current window is no longer a gobble; complete the logging for this gobble\n",
    "            track_gobble = False\n",
    "            if num_gobble_windows > 16 and gobble_predict_value/num_gobble_windows < 0.5: #gobble window must be more than 2 windows AND the average value coming from the CNN less than 0.10\n",
    "                gob_st = (gobble_start/24000) / 60.\n",
    "                min_sec = '{0}:{1:02}'.format(int(gob_st), round(((gob_st) - int(gob_st))*60))\n",
    "                outdata.loc[gobble_count] = [gobble_count, round(gobble_start/24000,2), round(gobble_end/24000,2), 1,\n",
    "                                             round(gobble_predict_value/num_gobble_windows,4), min_sec, gobble_start, gobble_end, num_gobble_windows, infilename] #add the info to the DataFrame\n",
    "                gobble_count += 1\n",
    "                while gobble_end - gobble_start < 96000:\n",
    "                    gobble_start -= 1000\n",
    "                    gobble_end += 1000\n",
    "                    if gobble_start < 0:\n",
    "                        gobble_start = 0\n",
    "                        break\n",
    "                    \n",
    "                outwav = inwav[1][gobble_start:gobble_end]\n",
    "                wavfile.write(temp_audio_out + infilename[:-4] + '_gobble_' + str(gobble_count - 1) + '.wav', 24000, outwav) #write the sound snippet to file\n",
    "        else: #no gobble and it wasn't tracking a gobble\n",
    "            pass \n",
    "        \n",
    "    return outdata, batch_results['result']"
   ]
  },
  {
   "cell_type": "code",
   "execution_count": null,
   "metadata": {},
   "outputs": [],
   "source": []
  }
 ],
 "metadata": {
  "kernelspec": {
   "display_name": "Python 3",
   "language": "python",
   "name": "python3"
  },
  "language_info": {
   "codemirror_mode": {
    "name": "ipython",
    "version": 3
   },
   "file_extension": ".py",
   "mimetype": "text/x-python",
   "name": "python",
   "nbconvert_exporter": "python",
   "pygments_lexer": "ipython3",
   "version": "3.6.9"
  }
 },
 "nbformat": 4,
 "nbformat_minor": 2
}
