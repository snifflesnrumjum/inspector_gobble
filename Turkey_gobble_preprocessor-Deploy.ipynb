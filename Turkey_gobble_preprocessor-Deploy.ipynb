{
 "cells": [
  {
   "cell_type": "code",
   "execution_count": 1,
   "metadata": {},
   "outputs": [
    {
     "name": "stdout",
     "output_type": "stream",
     "text": [
      "Using matplotlib backend: Qt5Agg\n",
      "Populating the interactive namespace from numpy and matplotlib\n"
     ]
    }
   ],
   "source": [
    "#file as of 12/18/2019\n",
    "\n",
    "import pandas as pd\n",
    "from scipy.io import wavfile\n",
    "from scipy import signal\n",
    "import os\n",
    "import matplotlib.pyplot as plt\n",
    "import time\n",
    "import numpy as np\n",
    "from PIL import Image\n",
    "%pylab\n",
    "%matplotlib inline"
   ]
  },
  {
   "cell_type": "markdown",
   "metadata": {},
   "source": [
    "# Note: I've moved to using 1s window slices"
   ]
  },
  {
   "cell_type": "markdown",
   "metadata": {},
   "source": [
    "### Define where the raw data files are located\n",
    "I've separated the training data from the test data."
   ]
  },
  {
   "cell_type": "code",
   "execution_count": 30,
   "metadata": {},
   "outputs": [],
   "source": [
    "indir_wav = 'E:/CJunk/Turkey_gobble_identification/Darren_Data/test/'\n",
    "indir_data = 'E:/CJunk/Turkey_gobble_identification/Darren_Data/test/'\n",
    "outdir = 'E:/CJunk/Turkey_gobble_identification/turkey_classifier_short_window/test/"
   ]
  },
  {
   "cell_type": "code",
   "execution_count": 34,
   "metadata": {},
   "outputs": [],
   "source": [
    "indir_wav = 'E:/CJunk/Turkey_gobble_identification/Darren_Data/train/'\n",
    "indir_data = 'E:/CJunk/Turkey_gobble_identification/Darren_Data/train/'\n",
    "outdir = 'E:/CJunk/Turkey_gobble_identification/turkey_classifier_short_window/temp/"
   ]
  },
  {
   "cell_type": "markdown",
   "metadata": {},
   "source": [
    "### Identify the data in the folders\n",
    "Gets a list of the data files for running through with the code below"
   ]
  },
  {
   "cell_type": "code",
   "execution_count": 35,
   "metadata": {},
   "outputs": [
    {
     "name": "stdout",
     "output_type": "stream",
     "text": [
      "['CC20_20180414_080002', 'CC20_20180414_100002', 'CC16_20180303_090002', 'CC32_20180315_060002', 'CC16_20180303_100002', 'CC32_20180406_070002', 'CC32_20180413_060002', 'CC32_20180317_060002', 'CC32_20180409_090002', 'CC32_20180318_070002', 'CC32_20180312_070002', 'CC32_20180316_060002', 'CC20_20180414_090002', 'CC16_20180303_070002', 'CC32_20180314_070002', 'CC32_20180317_080002', 'CC32_20180314_060002', 'CC32_20180524_080002', 'CC32_20180423_080002', 'CC20_20180414_070002', 'CC20_20180414_060002', 'CC16_20180303_080002', 'CC32_20180301_080002', 'CC32_20180315_070002']\n",
      "24\n",
      "CC32_20180301_080002\n"
     ]
    }
   ],
   "source": [
    "allfiles = os.listdir(indir_wav)\n",
    "files = []\n",
    "for x in range(len(allfiles)):\n",
    "    if allfiles[x][-3:] == 'wav':\n",
    "        files.append(allfiles[x][:-4])\n",
    "files = list(set(files))\n",
    "\n",
    "infilename = files[-2]\n",
    "print(files)\n",
    "print(len(files))\n",
    "print(infilename)"
   ]
  },
  {
   "cell_type": "markdown",
   "metadata": {},
   "source": [
    "### This section will read the TSV files and locate the events in them\n",
    "This outputs 'high resolution' data from the here with window shifts of 300 (~0.0125s shifts). Since we don't always know where the gobble will be located with respect to the window when classifying new data, we want to have an example of the gobble in approximately every possible location within the window."
   ]
  },
  {
   "cell_type": "code",
   "execution_count": 36,
   "metadata": {
    "scrolled": false
   },
   "outputs": [
    {
     "name": "stdout",
     "output_type": "stream",
     "text": [
      "File:  CC20_20180414_080002\n",
      "File:  CC20_20180414_100002\n",
      "File:  CC16_20180303_090002\n",
      "File:  CC32_20180315_060002\n",
      "File:  CC16_20180303_100002\n",
      "File:  CC32_20180406_070002\n",
      "File:  CC32_20180413_060002\n",
      "File:  CC32_20180317_060002\n",
      "File:  CC32_20180409_090002\n",
      "File:  CC32_20180318_070002\n",
      "File:  CC32_20180312_070002\n",
      "File:  CC32_20180316_060002\n",
      "File:  CC20_20180414_090002\n",
      "File:  CC16_20180303_070002\n",
      "File:  CC32_20180314_070002\n",
      "File:  CC32_20180317_080002\n",
      "File:  CC32_20180314_060002\n",
      "File:  CC32_20180524_080002\n",
      "File:  CC32_20180423_080002\n",
      "File:  CC20_20180414_070002\n",
      "File:  CC20_20180414_060002\n",
      "File:  CC16_20180303_080002\n",
      "File:  CC32_20180301_080002\n",
      "File:  CC32_20180315_070002\n"
     ]
    }
   ],
   "source": [
    "#this one is to use the TSV files of validated data and focus only on these regions\n",
    "for infile in files[:]:\n",
    "    infilename = infile\n",
    "    print('File: ', infile)\n",
    "    wav = wavfile.read(indir_wav + infilename + '.wav')\n",
    "    dat = pd.read_csv(indir_data + infilename + '.txt', sep='\\t', header=0)\n",
    "\n",
    "    dat['mod_begin'] = round(dat['Begin Time (s)']*24000).astype('int')\n",
    "    dat['mod_end'] = round(dat['End Time (s)']*24000).astype('int')\n",
    "    if 'Gobbles' in dat.columns:\n",
    "        dat['Gobble'] = dat['Gobbles']\n",
    "\n",
    "    for x in range(len(dat)):\n",
    "        time1 = time.time()\n",
    "        temp_data = wav[1]\n",
    "        begin_data = dat.iloc[x]['mod_begin']\n",
    "        gobble = dat.iloc[x]['Gobble']\n",
    "        start_ind = dat.iloc[x]['mod_begin']\n",
    "        end_ind = dat.iloc[x]['mod_end']\n",
    "        check_for_gobble = False\n",
    "        if gobble == 0: #need to evaluate whether the sliding window will encompass an actual gobble\n",
    "                        #if it does, then I'll have to code as a gobble\n",
    "            if 0 < x < len(dat) - 1:\n",
    "                if dat.iloc[x-1]['mod_end'] > start_ind - 6000 and dat.iloc[x-1]['Gobble'] == 1:\n",
    "                    check_for_gobble = True\n",
    "                elif dat.iloc[x+1]['mod_begin'] < end_ind + 6000 and dat.iloc[x+1]['Gobble'] == 1:\n",
    "                    check_for_gobble = True\n",
    "            if 1 < x < len(dat) - 2:\n",
    "                if dat.iloc[x-2]['mod_end'] > start_ind - 6000 and dat.iloc[x-2]['Gobble'] == 1:\n",
    "                    check_for_gobble = True\n",
    "                elif dat.iloc[x+2]['mod_begin'] < end_ind + 6000 and dat.iloc[x+2]['Gobble'] == 1:\n",
    "                    check_for_gobble = True\n",
    "                    \n",
    "        for y in range(1000,24001,300):\n",
    "            #try:#signal in first part\n",
    "                f, t, Zxx = signal.stft(temp_data[begin_data+y:begin_data+24000+y], 24000, nperseg=1000)\n",
    "                a = Image.fromarray(np.abs(Zxx)[25:150].astype('int16')*10)\n",
    "                a = a.convert('L')\n",
    "                if check_for_gobble:\n",
    "                    #if dat.iloc[x-1]['mod_end'] - 6000 > (begin_data-y) and dat.iloc[x-1]['Gobble'] == 1:\n",
    "                    #    gobble = 1\n",
    "                    #elif dat.iloc[x+1]['mod_begin'] + 6000 < (begin_data+24000-y) and dat.iloc[x+1]['Gobble'] == 1:\n",
    "                    #    gobble = 1\n",
    "                    if dat.iloc[x-1]['mod_end'] - (begin_data-y) > 6000 and dat.iloc[x-1]['Gobble'] == 1:\n",
    "                        gobble = 1\n",
    "                    elif (begin_data+24000-y) - dat.iloc[x+1]['mod_begin'] > 6000  and dat.iloc[x+1]['Gobble'] == 1:\n",
    "                        gobble = 1\n",
    "                        \n",
    "                if gobble == 1:\n",
    "                    a.save(outdir + 'gobble/' + infilename + '_call_'+str(x) + '_' + str(y) +'.png')\n",
    "                else:\n",
    "                    a.save(outdir +'other/' + infilename + '_call_'+str(x) + '_' + str(y) +'.png')\n",
    "                if check_for_gobble:\n",
    "                    gobble = 0\n",
    "                \n",
    "            #except:\n",
    "            #    pass\n",
    "        plt.close()"
   ]
  },
  {
   "cell_type": "markdown",
   "metadata": {},
   "source": [
    "### Run through an entire WAV file\n",
    "This section will slice an entire WAV file into windows (sliding 0.25s between windows), check to see if the window overlaps a known gobble (from the TSV of validated data) and outputs it to the proper folder. This section helps to grab region of time where no events were detected (more cases of negative examples). <br> Since there are missed gobbles in the files, these will be put into the 'other' category. Running a training file through the CNN can highlight these missed gobbles and, after being validated, they can be added to the TSV file so they're picked up as gobbles whenever the training set is regenerated. I have been training the model, running it on the training data, finding missed gobbles, adding them in, regenerating the training set images, and then training the model more with this 'better' dataset. \n"
   ]
  },
  {
   "cell_type": "code",
   "execution_count": 37,
   "metadata": {
    "scrolled": false
   },
   "outputs": [
    {
     "name": "stdout",
     "output_type": "stream",
     "text": [
      "File:  CC20_20180414_080002\n",
      "File:  CC20_20180414_100002\n",
      "File:  CC16_20180303_090002\n",
      "File:  CC32_20180315_060002\n",
      "File:  CC16_20180303_100002\n",
      "File:  CC32_20180406_070002\n",
      "File:  CC32_20180413_060002\n",
      "File:  CC32_20180317_060002\n",
      "File:  CC32_20180409_090002\n",
      "File:  CC32_20180318_070002\n",
      "File:  CC32_20180312_070002\n",
      "File:  CC32_20180316_060002\n",
      "File:  CC20_20180414_090002\n",
      "File:  CC16_20180303_070002\n",
      "File:  CC32_20180314_070002\n",
      "File:  CC32_20180317_080002\n",
      "File:  CC32_20180314_060002\n",
      "File:  CC32_20180524_080002\n",
      "File:  CC32_20180423_080002\n",
      "File:  CC20_20180414_070002\n",
      "File:  CC20_20180414_060002\n",
      "File:  CC16_20180303_080002\n",
      "File:  CC32_20180301_080002\n",
      "File:  CC32_20180315_070002\n"
     ]
    }
   ],
   "source": [
    "#this block is for creating the windows based on 1s blocks of time (NOT knowing where the calls are)\n",
    "#this is for the training data; it seems I missed quite a bit of the 'silence' in the files\n",
    "\n",
    "for infile in files[:]:\n",
    "    infilename = infile\n",
    "    print('File: ', infile)\n",
    "    wav = wavfile.read(indir_wav + infilename + '.wav')\n",
    "    dat = pd.read_csv(indir_data + infilename + '.txt', sep='\\t', header=0)\n",
    "\n",
    "    dat['mod_begin'] = round(dat['Begin Time (s)']*24000).astype('int')\n",
    "    dat['mod_end'] = round(dat['End Time (s)']*24000).astype('int')\n",
    "    if 'Gobbles' in dat.columns:\n",
    "        dat['Gobble'] = dat['Gobbles']\n",
    "    current_event = 0\n",
    "    temp_data = wav[1]\n",
    "    #if sum(dat['Gobble']) < 1:\n",
    "    #    continue\n",
    "    for x in range(0, len(wav[1])+1, 6000):\n",
    "        begin_data = x\n",
    "        start_ind = x\n",
    "        end_ind = x + 24000\n",
    "        if end_ind >= len(wav[1]):\n",
    "            continue\n",
    "        \n",
    "        check_for_gobble = False\n",
    "        gobble = 0\n",
    "        if current_event < len(dat) - 1 and dat.iloc[current_event]['Gobble'] == 1:\n",
    "            if dat.iloc[current_event]['mod_end'] - start_ind > 6000 and end_ind - dat.iloc[current_event]['mod_begin'] > 6000:\n",
    "                check_for_gobble = True\n",
    "                gobble = 1\n",
    "            \n",
    "        \n",
    "        while begin_data > dat.iloc[current_event]['mod_end']:\n",
    "            current_event += 1\n",
    "            if current_event == len(dat):\n",
    "                current_event -= 1\n",
    "                break\n",
    "        #if check_for_gobble:\n",
    "        f, t, Zxx = signal.stft(temp_data[begin_data:end_ind], 24000, nperseg=1000, noverlap=500)\n",
    "        a = Image.fromarray(np.abs(Zxx)[25:150].astype('int16'))\n",
    "        a = a.convert('L')\n",
    "        if gobble == 1:\n",
    "            #pass\n",
    "            a.save(outdir + 'gobble/' + infilename + '_call_{:08d}.png'.format(x))\n",
    "        else:\n",
    "            a.save(outdir + 'other/' + infilename + '_call_{:08d}.png'.format(x))\n"
   ]
  }
 ],
 "metadata": {
  "kernelspec": {
   "display_name": "Python 3",
   "language": "python",
   "name": "python3"
  },
  "language_info": {
   "codemirror_mode": {
    "name": "ipython",
    "version": 3
   },
   "file_extension": ".py",
   "mimetype": "text/x-python",
   "name": "python",
   "nbconvert_exporter": "python",
   "pygments_lexer": "ipython3",
   "version": "3.6.9"
  }
 },
 "nbformat": 4,
 "nbformat_minor": 2
}
